{
 "cells": [
  {
   "cell_type": "markdown",
   "metadata": {},
   "source": [
    "# Regression for Prediction\n",
    "\n",
    "Before regression, we use the stepwise regression method to filter facoters. (using Stata)\n",
    "\n",
    "And we choose CP, fs2, fs3, fs4 and BW as our factors in the regression\n",
    "\n",
    "LinearRegression, Ridge, Lasso and ElasticNet are used as the method for regression\n"
   ]
  },
  {
   "cell_type": "code",
   "execution_count": 47,
   "metadata": {},
   "outputs": [],
   "source": [
    "from sklearn.linear_model import LinearRegression\n",
    "from sklearn.linear_model import Ridge\n",
    "from sklearn.linear_model import Lasso\n",
    "from sklearn.linear_model import ElasticNet\n",
    "from sklearn.metrics import mean_squared_error\n",
    "import pandas as pd\n",
    "import numpy as np\n",
    "import math"
   ]
  },
  {
   "cell_type": "code",
   "execution_count": 48,
   "metadata": {},
   "outputs": [],
   "source": [
    "df_in = pd.read_csv(\"../Data/Reg_In_Sample.csv\")\n",
    "df_out = pd.read_csv(\"../Data/Reg_In_Sample.csv\")"
   ]
  },
  {
   "cell_type": "code",
   "execution_count": 49,
   "metadata": {},
   "outputs": [],
   "source": [
    "df_in['fs2'] = np.log(df_in.iloc[:,1]) - np.log(df_in.iloc[:,2]) - df_in.iloc[:,6]\n",
    "df_out['fs2'] = np.log(df_out.iloc[:,1]) - np.log(df_out.iloc[:,2]) - df_out.iloc[:,6]\n",
    "df_in['fs3'] = np.log(df_in.iloc[:,2]) - np.log(df_in.iloc[:,3]) - df_in.iloc[:,7]\n",
    "df_out['fs3'] = np.log(df_out.iloc[:,2]) - np.log(df_out.iloc[:,3]) - df_out.iloc[:,7]\n",
    "df_in['fs4'] = np.log(df_in.iloc[:,3]) - np.log(df_in.iloc[:,4]) - df_in.iloc[:,8]\n",
    "df_out['fs4'] = np.log(df_out.iloc[:,3]) - np.log(df_out.iloc[:,4]) - df_out.iloc[:,8]"
   ]
  },
  {
   "cell_type": "code",
   "execution_count": 50,
   "metadata": {},
   "outputs": [
    {
     "data": {
      "text/plain": [
       "ElasticNet(alpha=1.0, copy_X=True, fit_intercept=True, l1_ratio=0.5,\n",
       "           max_iter=1000, normalize=False, positive=False, precompute=False,\n",
       "           random_state=None, selection='cyclic', tol=0.0001, warm_start=False)"
      ]
     },
     "execution_count": 50,
     "metadata": {},
     "output_type": "execute_result"
    }
   ],
   "source": [
    "line = LinearRegression()\n",
    "ridge = Ridge()\n",
    "lasso = Lasso()\n",
    "ela = ElasticNet()\n",
    "\n",
    "x1 = np.array(df_in['CP'])\n",
    "x2 = np.array(df_in['fs2'])\n",
    "x3 = np.array(df_in['fs3'])\n",
    "x4 = np.array(df_in['fs4'])\n",
    "x5 = np.array(df_in['BW'])\n",
    "x6 = np.array(df_in['Finan_h1'])\n",
    "\n",
    "x1_ = np.array(df_out['CP'])\n",
    "x2_ = np.array(df_out['fs2'])\n",
    "x3_ = np.array(df_out['fs3'])\n",
    "x4_ = np.array(df_out['fs4'])\n",
    "x5_ = np.array(df_out['BW'])\n",
    "x6_ = np.array(df_out['Finan_h1'])\n",
    "\n",
    "line.fit(np.array([x1,x2,x3,x4,x5,x6]).T.reshape(-1,6),df_in['yr_ave'])\n",
    "ridge.fit(np.array([x1,x2,x3,x4,x5,x6]).T.reshape(-1,6),df_in['yr_ave'])\n",
    "lasso.fit(np.array([x1,x2,x3,x4,x5,x6]).T.reshape(-1,6),df_in['yr_ave'])\n",
    "ela.fit(np.array([x1,x2,x3,x4,x5,x6]).T.reshape(-1,6),df_in['yr_ave'])"
   ]
  },
  {
   "cell_type": "code",
   "execution_count": 51,
   "metadata": {},
   "outputs": [],
   "source": [
    "y_est_line = line.predict(np.array([x1_,x2_,x3_,x4_,x5_,x6_]).T.reshape(-1,6))\n",
    "y_est_ridge = ridge.predict(np.array([x1_,x2_,x3_,x4_,x5_,x6_]).T.reshape(-1,6))\n",
    "y_est_lasso = lasso.predict(np.array([x1_,x2_,x3_,x4_,x5_,x6_]).T.reshape(-1,6))\n",
    "y_est_ela = ela.predict(np.array([x1_,x2_,x3_,x4_,x5_,x6_]).T.reshape(-1,6))"
   ]
  },
  {
   "cell_type": "code",
   "execution_count": 52,
   "metadata": {},
   "outputs": [
    {
     "name": "stdout",
     "output_type": "stream",
     "text": [
      "RMSE using Linear Regression for Average excess return on test set = 0.160\n"
     ]
    }
   ],
   "source": [
    "rmse_line = math.sqrt(mean_squared_error(df_out['yr_ave'],y_est_line))\n",
    "print(\"RMSE using Linear Regression for Average excess return on test set = %0.3f\" % rmse_line)"
   ]
  },
  {
   "cell_type": "code",
   "execution_count": 53,
   "metadata": {},
   "outputs": [
    {
     "name": "stdout",
     "output_type": "stream",
     "text": [
      "RMSE using Ridge for Average excess return on test set = 0.161\n"
     ]
    }
   ],
   "source": [
    "rmse_ridge = math.sqrt(mean_squared_error(df_out['yr_ave'],y_est_ridge))\n",
    "print(\"RMSE using Ridge for Average excess return on test set = %0.3f\" % rmse_ridge)"
   ]
  },
  {
   "cell_type": "code",
   "execution_count": 54,
   "metadata": {},
   "outputs": [
    {
     "name": "stdout",
     "output_type": "stream",
     "text": [
      "RMSE using Lasso for Average excess return on test set = 0.334\n"
     ]
    }
   ],
   "source": [
    "rmse_lasso = math.sqrt(mean_squared_error(df_out['yr_ave'],y_est_lasso))\n",
    "print(\"RMSE using Lasso for Average excess return on test set = %0.3f\" % rmse_lasso)"
   ]
  },
  {
   "cell_type": "code",
   "execution_count": 55,
   "metadata": {},
   "outputs": [
    {
     "name": "stdout",
     "output_type": "stream",
     "text": [
      "RMSE using Elastic Net for Average excess return on test set = 0.243\n"
     ]
    }
   ],
   "source": [
    "rmse_ela = math.sqrt(mean_squared_error(df_out['yr_ave'],y_est_ela))\n",
    "print(\"RMSE using Elastic Net for Average excess return on test set = %0.3f\" % rmse_ela)"
   ]
  },
  {
   "cell_type": "code",
   "execution_count": null,
   "metadata": {},
   "outputs": [],
   "source": []
  }
 ],
 "metadata": {
  "kernelspec": {
   "display_name": "Python 3",
   "language": "python",
   "name": "python3"
  },
  "language_info": {
   "codemirror_mode": {
    "name": "ipython",
    "version": 3
   },
   "file_extension": ".py",
   "mimetype": "text/x-python",
   "name": "python",
   "nbconvert_exporter": "python",
   "pygments_lexer": "ipython3",
   "version": "3.7.4"
  }
 },
 "nbformat": 4,
 "nbformat_minor": 4
}
