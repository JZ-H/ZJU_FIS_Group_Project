{
 "cells": [
  {
   "cell_type": "markdown",
   "metadata": {},
   "source": [
    "# Regression for Prediction\n",
    "\n",
    "Before regression, we use the stepwise regression method to filter facoters. (using Stata)\n",
    "\n",
    "And we choose CP, fs2, fs3, fs4 and BW as our factors in the regression\n",
    "\n",
    "LinearRegression, Ridge, Lasso and ElasticNet are used as the method for regression\n"
   ]
  },
  {
   "cell_type": "code",
   "execution_count": 75,
   "metadata": {},
   "outputs": [],
   "source": [
    "from sklearn.linear_model import LinearRegression\n",
    "from sklearn.linear_model import Ridge\n",
    "from sklearn.linear_model import Lasso\n",
    "from sklearn.linear_model import ElasticNet\n",
    "from sklearn.metrics import mean_squared_error\n",
    "import pandas as pd\n",
    "import numpy as np\n",
    "import math\n",
    "def get_mape(y_true, y_pred): \n",
    "    \"\"\"\n",
    "    Compute mean absolute percentage error (MAPE)\n",
    "    \"\"\"\n",
    "    y_true, y_pred = np.array(y_true), np.array(y_pred)\n",
    "    return np.mean(np.abs((y_true - y_pred) / y_true)) * 100"
   ]
  },
  {
   "cell_type": "code",
   "execution_count": 76,
   "metadata": {},
   "outputs": [],
   "source": [
    "df_in = pd.read_csv(\"../Data/Reg_In_Sample.csv\")\n",
    "df_out = pd.read_csv(\"../Data/Reg_In_Sample.csv\")"
   ]
  },
  {
   "cell_type": "code",
   "execution_count": 77,
   "metadata": {},
   "outputs": [],
   "source": [
    "df_in['fs2'] = np.log(df_in.iloc[:,1]) - np.log(df_in.iloc[:,2]) - df_in.iloc[:,6]\n",
    "df_out['fs2'] = np.log(df_out.iloc[:,1]) - np.log(df_out.iloc[:,2]) - df_out.iloc[:,6]\n",
    "df_in['fs3'] = np.log(df_in.iloc[:,2]) - np.log(df_in.iloc[:,3]) - df_in.iloc[:,7]\n",
    "df_out['fs3'] = np.log(df_out.iloc[:,2]) - np.log(df_out.iloc[:,3]) - df_out.iloc[:,7]\n",
    "df_in['fs4'] = np.log(df_in.iloc[:,3]) - np.log(df_in.iloc[:,4]) - df_in.iloc[:,8]\n",
    "df_out['fs4'] = np.log(df_out.iloc[:,3]) - np.log(df_out.iloc[:,4]) - df_out.iloc[:,8]"
   ]
  },
  {
   "cell_type": "code",
   "execution_count": 78,
   "metadata": {},
   "outputs": [],
   "source": [
    "line = LinearRegression()\n",
    "ridge = Ridge()\n",
    "lasso = Lasso()\n",
    "ela = ElasticNet()\n",
    "\n",
    "x1 = np.array(df_in['CP'])\n",
    "x2 = np.array(df_in['fs2'])\n",
    "x3 = np.array(df_in['fs3'])\n",
    "x4 = np.array(df_in['fs4'])\n",
    "x5 = np.array(df_in['BW'])\n",
    "x6 = np.array(df_in['Finan_h1'])\n",
    "\n",
    "x1_ = np.array(df_out['CP'])\n",
    "x2_ = np.array(df_out['fs2'])\n",
    "x3_ = np.array(df_out['fs3'])\n",
    "x4_ = np.array(df_out['fs4'])\n",
    "x5_ = np.array(df_out['BW'])\n",
    "x6_ = np.array(df_out['Finan_h1'])"
   ]
  },
  {
   "cell_type": "code",
   "execution_count": null,
   "metadata": {},
   "outputs": [],
   "source": []
  },
  {
   "cell_type": "code",
   "execution_count": 79,
   "metadata": {},
   "outputs": [],
   "source": [
    "line.fit(np.array([x1,x2,x3,x4,x5,x6]).T.reshape(-1,6),df_in['yr_ave'])\n",
    "ridge.fit(np.array([x1,x2,x3,x4,x5,x6]).T.reshape(-1,6),df_in['yr_ave'])\n",
    "lasso.fit(np.array([x1,x2,x3,x4,x5,x6]).T.reshape(-1,6),df_in['yr_ave'])\n",
    "ela.fit(np.array([x1,x2,x3,x4,x5,x6]).T.reshape(-1,6),df_in['yr_ave'])\n",
    "\n",
    "y_est_line = line.predict(np.array([x1_,x2_,x3_,x4_,x5_,x6_]).T.reshape(-1,6))\n",
    "y_est_ridge = ridge.predict(np.array([x1_,x2_,x3_,x4_,x5_,x6_]).T.reshape(-1,6))\n",
    "y_est_lasso = lasso.predict(np.array([x1_,x2_,x3_,x4_,x5_,x6_]).T.reshape(-1,6))\n",
    "y_est_ela = ela.predict(np.array([x1_,x2_,x3_,x4_,x5_,x6_]).T.reshape(-1,6))\n",
    "\n",
    "rmse_line = []\n",
    "mape_line = []\n",
    "rmse_ridge = []\n",
    "mape_ridge = []\n",
    "rmse_lasso = []\n",
    "mape_lasso = []\n",
    "rmse_ela = []\n",
    "mape_ela = []\n",
    "\n",
    "rmse_line.append(math.sqrt(mean_squared_error(df_out['yr_ave'],y_est_line)))\n",
    "mape_line.append(get_mape(df_out['yr_ave'],y_est_line))\n",
    "rmse_ridge.append(math.sqrt(mean_squared_error(df_out['yr_ave'],y_est_ridge)))\n",
    "mape_ridge.append(get_mape(df_out['yr_ave'],y_est_ridge))\n",
    "rmse_lasso.append(math.sqrt(mean_squared_error(df_out['yr_ave'],y_est_lasso)))\n",
    "mape_lasso.append(get_mape(df_out['yr_ave'],y_est_lasso))\n",
    "rmse_ela.append(math.sqrt(mean_squared_error(df_out['yr_ave'],y_est_ela)))\n",
    "mape_ela.append(get_mape(df_out['yr_ave'],y_est_ela))"
   ]
  },
  {
   "cell_type": "code",
   "execution_count": 79,
   "metadata": {},
   "outputs": [],
   "source": []
  },
  {
   "cell_type": "code",
   "execution_count": 51,
   "metadata": {},
   "outputs": [],
   "source": [
    "line.fit(np.array([x1,x2,x3,x4,x5,x6]).T.reshape(-1,6),df_in['yr2'])\n",
    "ridge.fit(np.array([x1,x2,x3,x4,x5,x6]).T.reshape(-1,6),df_in['yr_ave'])\n",
    "lasso.fit(np.array([x1,x2,x3,x4,x5,x6]).T.reshape(-1,6),df_in['yr_ave'])\n",
    "ela.fit(np.array([x1,x2,x3,x4,x5,x6]).T.reshape(-1,6),df_in['yr_ave'])\n",
    "\n",
    "y_est_line = line.predict(np.array([x1_,x2_,x3_,x4_,x5_,x6_]).T.reshape(-1,6))\n",
    "y_est_ridge = ridge.predict(np.array([x1_,x2_,x3_,x4_,x5_,x6_]).T.reshape(-1,6))\n",
    "y_est_lasso = lasso.predict(np.array([x1_,x2_,x3_,x4_,x5_,x6_]).T.reshape(-1,6))\n",
    "y_est_ela = ela.predict(np.array([x1_,x2_,x3_,x4_,x5_,x6_]).T.reshape(-1,6))\n",
    "\n",
    "rmse_line.append(math.sqrt(mean_squared_error(df_out['yr_ave'],y_est_line)))\n",
    "mape_line.append(get_mape(df_out['yr_ave'],y_est_line))\n",
    "rmse_ridge.append(math.sqrt(mean_squared_error(df_out['yr_ave'],y_est_ridge)))\n",
    "mape_ridge.append(get_mape(df_out['yr_ave'],y_est_ridge))\n",
    "rmse_lasso.append(math.sqrt(mean_squared_error(df_out['yr_ave'],y_est_lasso)))\n",
    "mape_lasso.append(get_mape(df_out['yr_ave'],y_est_lasso))\n",
    "rmse_ela.apend(math.sqrt(mean_squared_error(df_out['yr_ave'],y_est_ela)))\n",
    "mape_ela.append(get_mape(df_out['yr_ave'],y_est_ela))"
   ]
  }
 ],
 "metadata": {
  "kernelspec": {
   "display_name": "Python 3",
   "language": "python",
   "name": "python3"
  },
  "language_info": {
   "codemirror_mode": {
    "name": "ipython",
    "version": 3
   },
   "file_extension": ".py",
   "mimetype": "text/x-python",
   "name": "python",
   "nbconvert_exporter": "python",
   "pygments_lexer": "ipython3",
   "version": "3.7.4"
  }
 },
 "nbformat": 4,
 "nbformat_minor": 4
}
