{
 "cells": [
  {
   "cell_type": "markdown",
   "metadata": {},
   "source": [
    "# Regression for Prediction\n",
    "\n",
    "Before regression, we use the stepwise regression method to filter facoters. (using Stata)\n",
    "\n",
    "And we choose CP, fs2, fs3, fs4 and BW as our factors in the regression\n",
    "\n",
    "LinearRegression, Ridge, Lasso and ElasticNet are used as the method for regression\n"
   ]
  },
  {
   "cell_type": "code",
   "execution_count": 99,
   "metadata": {},
   "outputs": [],
   "source": [
    "from sklearn.linear_model import LinearRegression\n",
    "from sklearn.linear_model import Ridge\n",
    "from sklearn.linear_model import Lasso\n",
    "from sklearn.linear_model import ElasticNet\n",
    "from sklearn.metrics import mean_squared_error\n",
    "import pandas as pd\n",
    "import numpy as np\n",
    "import math\n",
    "def get_mape(y_true, y_pred): \n",
    "    \"\"\"\n",
    "    Compute mean absolute percentage error (MAPE)\n",
    "    \"\"\"\n",
    "    y_true, y_pred = np.array(y_true), np.array(y_pred)\n",
    "    return np.mean(np.abs((y_true - y_pred) / y_true)) * 100"
   ]
  },
  {
   "cell_type": "code",
   "execution_count": 100,
   "metadata": {},
   "outputs": [],
   "source": [
    "df_in = pd.read_csv(\"../Data/Reg_In_Sample.csv\")\n",
    "df_out = pd.read_csv(\"../Data/Reg_In_Sample.csv\")"
   ]
  },
  {
   "cell_type": "code",
   "execution_count": 101,
   "metadata": {},
   "outputs": [],
   "source": [
    "df_in['fs2'] = np.log(df_in.iloc[:,1]) - np.log(df_in.iloc[:,2]) - df_in.iloc[:,6]\n",
    "df_out['fs2'] = np.log(df_out.iloc[:,1]) - np.log(df_out.iloc[:,2]) - df_out.iloc[:,6]\n",
    "df_in['fs3'] = np.log(df_in.iloc[:,2]) - np.log(df_in.iloc[:,3]) - df_in.iloc[:,7]\n",
    "df_out['fs3'] = np.log(df_out.iloc[:,2]) - np.log(df_out.iloc[:,3]) - df_out.iloc[:,7]\n",
    "df_in['fs4'] = np.log(df_in.iloc[:,3]) - np.log(df_in.iloc[:,4]) - df_in.iloc[:,8]\n",
    "df_out['fs4'] = np.log(df_out.iloc[:,3]) - np.log(df_out.iloc[:,4]) - df_out.iloc[:,8]"
   ]
  },
  {
   "cell_type": "code",
   "execution_count": 102,
   "metadata": {},
   "outputs": [],
   "source": [
    "line = LinearRegression()\n",
    "ridge = Ridge()\n",
    "lasso = Lasso()\n",
    "ela = ElasticNet()\n",
    "\n",
    "x1 = np.array(df_in['CP'])\n",
    "x2 = np.array(df_in['fs2'])\n",
    "x3 = np.array(df_in['fs3'])\n",
    "x4 = np.array(df_in['fs4'])\n",
    "x5 = np.array(df_in['BW'])\n",
    "x6 = np.array(df_in['Finan_h1'])\n",
    "\n",
    "x1_ = np.array(df_out['CP'])\n",
    "x2_ = np.array(df_out['fs2'])\n",
    "x3_ = np.array(df_out['fs3'])\n",
    "x4_ = np.array(df_out['fs4'])\n",
    "x5_ = np.array(df_out['BW'])\n",
    "x6_ = np.array(df_out['Finan_h1'])"
   ]
  },
  {
   "cell_type": "code",
   "execution_count": 111,
   "metadata": {},
   "outputs": [],
   "source": [
    "line.fit(np.array([x1,x2,x3,x4,x5,x6]).T.reshape(-1,6),df_in['yr_ave'])\n",
    "ridge.fit(np.array([x1,x2,x3,x4,x5,x6]).T.reshape(-1,6),df_in['yr_ave'])\n",
    "lasso.fit(np.array([x1,x2,x3,x4,x5,x6]).T.reshape(-1,6),df_in['yr_ave'])\n",
    "ela.fit(np.array([x1,x2,x3,x4,x5,x6]).T.reshape(-1,6),df_in['yr_ave'])\n",
    "\n",
    "y_est_line = line.predict(np.array([x1_,x2_,x3_,x4_,x5_,x6_]).T.reshape(-1,6))\n",
    "y_est_ridge = ridge.predict(np.array([x1_,x2_,x3_,x4_,x5_,x6_]).T.reshape(-1,6))\n",
    "y_est_lasso = lasso.predict(np.array([x1_,x2_,x3_,x4_,x5_,x6_]).T.reshape(-1,6))\n",
    "y_est_ela = ela.predict(np.array([x1_,x2_,x3_,x4_,x5_,x6_]).T.reshape(-1,6))\n",
    "\n",
    "rmse_line = []\n",
    "mape_line = []\n",
    "rmse_ridge = []\n",
    "mape_ridge = []\n",
    "rmse_lasso = []\n",
    "mape_lasso = []\n",
    "rmse_ela = []\n",
    "mape_ela = []\n",
    "\n",
    "rmse_line.append(math.sqrt(mean_squared_error(df_out['yr_ave'],y_est_line)))\n",
    "mape_line.append(get_mape(df_out['yr_ave'],y_est_line))\n",
    "rmse_ridge.append(math.sqrt(mean_squared_error(df_out['yr_ave'],y_est_ridge)))\n",
    "mape_ridge.append(get_mape(df_out['yr_ave'],y_est_ridge))\n",
    "rmse_lasso.append(math.sqrt(mean_squared_error(df_out['yr_ave'],y_est_lasso)))\n",
    "mape_lasso.append(get_mape(df_out['yr_ave'],y_est_lasso))\n",
    "rmse_ela.append(math.sqrt(mean_squared_error(df_out['yr_ave'],y_est_ela)))\n",
    "mape_ela.append(get_mape(df_out['yr_ave'],y_est_ela))"
   ]
  },
  {
   "cell_type": "code",
   "execution_count": 112,
   "metadata": {},
   "outputs": [],
   "source": [
    "line.fit(np.array([x1,x2,x3,x4,x5,x6]).T.reshape(-1,6),df_in['yr2'])\n",
    "ridge.fit(np.array([x1,x2,x3,x4,x5,x6]).T.reshape(-1,6),df_in['yr2'])\n",
    "lasso.fit(np.array([x1,x2,x3,x4,x5,x6]).T.reshape(-1,6),df_in['yr2'])\n",
    "ela.fit(np.array([x1,x2,x3,x4,x5,x6]).T.reshape(-1,6),df_in['yr2'])\n",
    "\n",
    "y_est_line = line.predict(np.array([x1_,x2_,x3_,x4_,x5_,x6_]).T.reshape(-1,6))\n",
    "y_est_ridge = ridge.predict(np.array([x1_,x2_,x3_,x4_,x5_,x6_]).T.reshape(-1,6))\n",
    "y_est_lasso = lasso.predict(np.array([x1_,x2_,x3_,x4_,x5_,x6_]).T.reshape(-1,6))\n",
    "y_est_ela = ela.predict(np.array([x1_,x2_,x3_,x4_,x5_,x6_]).T.reshape(-1,6))\n",
    "\n",
    "rmse_line.append(math.sqrt(mean_squared_error(df_out['yr2'],y_est_line)))\n",
    "mape_line.append(get_mape(df_out['yr2'],y_est_line))\n",
    "rmse_ridge.append(math.sqrt(mean_squared_error(df_out['yr2'],y_est_ridge)))\n",
    "mape_ridge.append(get_mape(df_out['yr2'],y_est_ridge))\n",
    "rmse_lasso.append(math.sqrt(mean_squared_error(df_out['yr2'],y_est_lasso)))\n",
    "mape_lasso.append(get_mape(df_out['yr2'],y_est_lasso))\n",
    "rmse_ela.append(math.sqrt(mean_squared_error(df_out['yr2'],y_est_ela)))\n",
    "mape_ela.append(get_mape(df_out['yr2'],y_est_ela))"
   ]
  },
  {
   "cell_type": "code",
   "execution_count": 113,
   "metadata": {},
   "outputs": [],
   "source": [
    "line.fit(np.array([x1,x2,x3,x4,x5,x6]).T.reshape(-1,6),df_in['yr3'])\n",
    "ridge.fit(np.array([x1,x2,x3,x4,x5,x6]).T.reshape(-1,6),df_in['yr3'])\n",
    "lasso.fit(np.array([x1,x2,x3,x4,x5,x6]).T.reshape(-1,6),df_in['yr3'])\n",
    "ela.fit(np.array([x1,x2,x3,x4,x5,x6]).T.reshape(-1,6),df_in['yr3'])\n",
    "\n",
    "y_est_line = line.predict(np.array([x1_,x2_,x3_,x4_,x5_,x6_]).T.reshape(-1,6))\n",
    "y_est_ridge = ridge.predict(np.array([x1_,x2_,x3_,x4_,x5_,x6_]).T.reshape(-1,6))\n",
    "y_est_lasso = lasso.predict(np.array([x1_,x2_,x3_,x4_,x5_,x6_]).T.reshape(-1,6))\n",
    "y_est_ela = ela.predict(np.array([x1_,x2_,x3_,x4_,x5_,x6_]).T.reshape(-1,6))\n",
    "\n",
    "rmse_line.append(math.sqrt(mean_squared_error(df_out['yr3'],y_est_line)))\n",
    "mape_line.append(get_mape(df_out['yr3'],y_est_line))\n",
    "rmse_ridge.append(math.sqrt(mean_squared_error(df_out['yr3'],y_est_ridge)))\n",
    "mape_ridge.append(get_mape(df_out['yr3'],y_est_ridge))\n",
    "rmse_lasso.append(math.sqrt(mean_squared_error(df_out['yr3'],y_est_lasso)))\n",
    "mape_lasso.append(get_mape(df_out['yr3'],y_est_lasso))\n",
    "rmse_ela.append(math.sqrt(mean_squared_error(df_out['yr3'],y_est_ela)))\n",
    "mape_ela.append(get_mape(df_out['yr3'],y_est_ela))"
   ]
  },
  {
   "cell_type": "code",
   "execution_count": 114,
   "metadata": {},
   "outputs": [],
   "source": [
    "line.fit(np.array([x1,x2,x3,x4,x5,x6]).T.reshape(-1,6),df_in['yr4'])\n",
    "ridge.fit(np.array([x1,x2,x3,x4,x5,x6]).T.reshape(-1,6),df_in['yr4'])\n",
    "lasso.fit(np.array([x1,x2,x3,x4,x5,x6]).T.reshape(-1,6),df_in['yr4'])\n",
    "ela.fit(np.array([x1,x2,x3,x4,x5,x6]).T.reshape(-1,6),df_in['yr4'])\n",
    "\n",
    "y_est_line = line.predict(np.array([x1_,x2_,x3_,x4_,x5_,x6_]).T.reshape(-1,6))\n",
    "y_est_ridge = ridge.predict(np.array([x1_,x2_,x3_,x4_,x5_,x6_]).T.reshape(-1,6))\n",
    "y_est_lasso = lasso.predict(np.array([x1_,x2_,x3_,x4_,x5_,x6_]).T.reshape(-1,6))\n",
    "y_est_ela = ela.predict(np.array([x1_,x2_,x3_,x4_,x5_,x6_]).T.reshape(-1,6))\n",
    "\n",
    "rmse_line.append(math.sqrt(mean_squared_error(df_out['yr4'],y_est_line)))\n",
    "mape_line.append(get_mape(df_out['yr4'],y_est_line))\n",
    "rmse_ridge.append(math.sqrt(mean_squared_error(df_out['yr4'],y_est_ridge)))\n",
    "mape_ridge.append(get_mape(df_out['yr4'],y_est_ridge))\n",
    "rmse_lasso.append(math.sqrt(mean_squared_error(df_out['yr4'],y_est_lasso)))\n",
    "mape_lasso.append(get_mape(df_out['yr4'],y_est_lasso))\n",
    "rmse_ela.append(math.sqrt(mean_squared_error(df_out['yr4'],y_est_ela)))\n",
    "mape_ela.append(get_mape(df_out['yr4'],y_est_ela))"
   ]
  },
  {
   "cell_type": "code",
   "execution_count": 115,
   "metadata": {},
   "outputs": [],
   "source": [
    "line.fit(np.array([x1,x2,x3,x4,x5,x6]).T.reshape(-1,6),df_in['yr5'])\n",
    "ridge.fit(np.array([x1,x2,x3,x4,x5,x6]).T.reshape(-1,6),df_in['yr5'])\n",
    "lasso.fit(np.array([x1,x2,x3,x4,x5,x6]).T.reshape(-1,6),df_in['yr5'])\n",
    "ela.fit(np.array([x1,x2,x3,x4,x5,x6]).T.reshape(-1,6),df_in['yr5'])\n",
    "\n",
    "y_est_line = line.predict(np.array([x1_,x2_,x3_,x4_,x5_,x6_]).T.reshape(-1,6))\n",
    "y_est_ridge = ridge.predict(np.array([x1_,x2_,x3_,x4_,x5_,x6_]).T.reshape(-1,6))\n",
    "y_est_lasso = lasso.predict(np.array([x1_,x2_,x3_,x4_,x5_,x6_]).T.reshape(-1,6))\n",
    "y_est_ela = ela.predict(np.array([x1_,x2_,x3_,x4_,x5_,x6_]).T.reshape(-1,6))\n",
    "\n",
    "rmse_line.append(math.sqrt(mean_squared_error(df_out['yr5'],y_est_line)))\n",
    "mape_line.append(get_mape(df_out['yr5'],y_est_line))\n",
    "rmse_ridge.append(math.sqrt(mean_squared_error(df_out['yr5'],y_est_ridge)))\n",
    "mape_ridge.append(get_mape(df_out['yr5'],y_est_ridge))\n",
    "rmse_lasso.append(math.sqrt(mean_squared_error(df_out['yr5'],y_est_lasso)))\n",
    "mape_lasso.append(get_mape(df_out['yr5'],y_est_lasso))\n",
    "rmse_ela.append(math.sqrt(mean_squared_error(df_out['yr5'],y_est_ela)))\n",
    "mape_ela.append(get_mape(df_out['yr5'],y_est_ela))"
   ]
  },
  {
   "cell_type": "code",
   "execution_count": 119,
   "metadata": {},
   "outputs": [
    {
     "data": {
      "text/plain": [
       "36.742380404895655"
      ]
     },
     "execution_count": 119,
     "metadata": {},
     "output_type": "execute_result"
    }
   ],
   "source": [
    "mape_line[4]"
   ]
  },
  {
   "cell_type": "code",
   "execution_count": 122,
   "metadata": {},
   "outputs": [],
   "source": [
    "df_result_line = pd.DataFrame({\"average\":[rmse_line[0],mape_line[0]],\n",
    "                               \"rx(2)\":[rmse_line[1],mape_line[1]],\n",
    "                               \"rx(3)\":[rmse_line[2],mape_line[2]],\n",
    "                               \"rx(4)\":[rmse_line[3],mape_line[3]],\n",
    "                               \"rx(5)\":[rmse_line[4],mape_line[4]]},index=['RMSE','MAPE-%'])\n",
    "df_result_ridge = pd.DataFrame({\"average\":[rmse_ridge[0],mape_ridge[0]],\n",
    "                               \"rx(2)\":[rmse_ridge[1],mape_ridge[1]],\n",
    "                               \"rx(3)\":[rmse_ridge[2],mape_ridge[2]],\n",
    "                               \"rx(4)\":[rmse_ridge[3],mape_ridge[3]],\n",
    "                               \"rx(5)\":[rmse_ridge[4],mape_ridge[4]]},index=['RMSE','MAPE-%'])\n",
    "df_result_lasso = pd.DataFrame({\"average\":[rmse_lasso[0],mape_lasso[0]],\n",
    "                               \"rx(2)\":[rmse_lasso[1],mape_lasso[1]],\n",
    "                               \"rx(3)\":[rmse_lasso[2],mape_lasso[2]],\n",
    "                               \"rx(4)\":[rmse_lasso[3],mape_lasso[3]],\n",
    "                               \"rx(5)\":[rmse_lasso[4],mape_lasso[4]]},index=['RMSE','MAPE-%'])\n",
    "df_result_ela = pd.DataFrame({\"average\":[rmse_ela[0],mape_ela[0]],\n",
    "                               \"rx(2)\":[rmse_ela[1],mape_ela[1]],\n",
    "                               \"rx(3)\":[rmse_ela[2],mape_ela[2]],\n",
    "                               \"rx(4)\":[rmse_ela[3],mape_ela[3]],\n",
    "                               \"rx(5)\":[rmse_ela[4],mape_ela[4]]},index=['RMSE','MAPE-%'])"
   ]
  },
  {
   "cell_type": "code",
   "execution_count": 139,
   "metadata": {},
   "outputs": [],
   "source": [
    "df_result_line.to_csv(\"Result_Line_RMSE_MAPE.csv\")\n",
    "df_result_ridge.to_csv(\"Result_Ridge_RMSE_MAPE.csv\")\n",
    "df_result_lasso.to_csv(\"Result_Lasso_RMSE_MAPE.csv\")\n",
    "df_result_ela.to_csv(\"Result_Ela_RMSE_MAPE.csv\")"
   ]
  },
  {
   "cell_type": "code",
   "execution_count": null,
   "metadata": {},
   "outputs": [],
   "source": []
  }
 ],
 "metadata": {
  "kernelspec": {
   "display_name": "Python 3",
   "language": "python",
   "name": "python3"
  },
  "language_info": {
   "codemirror_mode": {
    "name": "ipython",
    "version": 3
   },
   "file_extension": ".py",
   "mimetype": "text/x-python",
   "name": "python",
   "nbconvert_exporter": "python",
   "pygments_lexer": "ipython3",
   "version": "3.7.6"
  }
 },
 "nbformat": 4,
 "nbformat_minor": 4
}
