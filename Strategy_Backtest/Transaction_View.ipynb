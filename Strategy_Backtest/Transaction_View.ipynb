{
 "cells": [
  {
   "cell_type": "markdown",
   "metadata": {},
   "source": [
    "# Set the View Martix for the Transaction\n",
    "\n",
    "For all 5 kinds of assets:\n",
    "\n",
    "Long: the relatively best two asset\n",
    "\n",
    "Short: the relatively worst two asset"
   ]
  },
  {
   "cell_type": "code",
   "execution_count": 110,
   "metadata": {},
   "outputs": [],
   "source": [
    "import pandas as pd\n",
    "import numpy as np"
   ]
  },
  {
   "cell_type": "code",
   "execution_count": 111,
   "metadata": {},
   "outputs": [],
   "source": [
    "df1 = pd.read_csv('Out/DataFre_1M_TranFreq_1M_Price1_xgboost.csv')\n",
    "df2 = pd.read_csv('Out/DataFre_1M_TranFreq_1M_Price2_xgboost.csv')\n",
    "df3 = pd.read_csv('Out/DataFre_1M_TranFreq_1M_Price3_xgboost.csv')\n",
    "df4 = pd.read_csv('Out/DataFre_1M_TranFreq_1M_Price4_xgboost.csv')\n",
    "df5 = pd.read_csv('Out/DataFre_1M_TranFreq_1M_Price5_xgboost.csv')\n",
    "df1['change'] = np.log(df1['est']/100) - np.log(df1['y_sample']/100)\n",
    "df2['change'] = np.log(df2['est']/100) - np.log(df2['y_sample']/100)\n",
    "df3['change'] = np.log(df3['est']/100) - np.log(df3['y_sample']/100)\n",
    "df4['change'] = np.log(df4['est']/100) - np.log(df4['y_sample']/100)\n",
    "df5['change'] = np.log(df5['est']/100) - np.log(df5['y_sample']/100)"
   ]
  },
  {
   "cell_type": "code",
   "execution_count": 112,
   "metadata": {},
   "outputs": [],
   "source": [
    "df_cg = pd.concat([df1['date'],df1['change'],df2['change'],df3['change'],df4['change'],df5['change']],axis=1)"
   ]
  },
  {
   "cell_type": "code",
   "execution_count": 113,
   "metadata": {},
   "outputs": [],
   "source": [
    "df_cg.columns =['date', 'change1', 'change2', 'change3', 'change4', 'change5']\n",
    "df_cg.index = df_cg['date']\n",
    "df_cg.drop(['date'],axis=1,inplace=True)"
   ]
  },
  {
   "cell_type": "code",
   "execution_count": 114,
   "metadata": {},
   "outputs": [],
   "source": [
    "Long  = pd.DataFrame(df1['date'],columns = ['date'])\n",
    "Short = pd.DataFrame(df1['date'],columns = ['date'])"
   ]
  },
  {
   "cell_type": "code",
   "execution_count": 115,
   "metadata": {},
   "outputs": [
    {
     "data": {
      "text/html": [
       "<div>\n",
       "<style scoped>\n",
       "    .dataframe tbody tr th:only-of-type {\n",
       "        vertical-align: middle;\n",
       "    }\n",
       "\n",
       "    .dataframe tbody tr th {\n",
       "        vertical-align: top;\n",
       "    }\n",
       "\n",
       "    .dataframe thead th {\n",
       "        text-align: right;\n",
       "    }\n",
       "</style>\n",
       "<table border=\"1\" class=\"dataframe\">\n",
       "  <thead>\n",
       "    <tr style=\"text-align: right;\">\n",
       "      <th></th>\n",
       "      <th>change1</th>\n",
       "      <th>change2</th>\n",
       "      <th>change3</th>\n",
       "      <th>change4</th>\n",
       "      <th>change5</th>\n",
       "    </tr>\n",
       "    <tr>\n",
       "      <th>date</th>\n",
       "      <th></th>\n",
       "      <th></th>\n",
       "      <th></th>\n",
       "      <th></th>\n",
       "      <th></th>\n",
       "    </tr>\n",
       "  </thead>\n",
       "  <tbody>\n",
       "    <tr>\n",
       "      <td>1994-01-01</td>\n",
       "      <td>0.000095</td>\n",
       "      <td>0.001622</td>\n",
       "      <td>0.002544</td>\n",
       "      <td>0.002159</td>\n",
       "      <td>0.004129</td>\n",
       "    </tr>\n",
       "    <tr>\n",
       "      <td>1994-02-01</td>\n",
       "      <td>0.005220</td>\n",
       "      <td>0.010506</td>\n",
       "      <td>0.016879</td>\n",
       "      <td>0.021521</td>\n",
       "      <td>0.023933</td>\n",
       "    </tr>\n",
       "    <tr>\n",
       "      <td>1994-03-01</td>\n",
       "      <td>0.009499</td>\n",
       "      <td>0.019883</td>\n",
       "      <td>0.035702</td>\n",
       "      <td>0.044843</td>\n",
       "      <td>0.049787</td>\n",
       "    </tr>\n",
       "    <tr>\n",
       "      <td>1994-04-01</td>\n",
       "      <td>0.013133</td>\n",
       "      <td>0.027791</td>\n",
       "      <td>0.038103</td>\n",
       "      <td>0.051464</td>\n",
       "      <td>0.056815</td>\n",
       "    </tr>\n",
       "    <tr>\n",
       "      <td>1994-05-01</td>\n",
       "      <td>0.012206</td>\n",
       "      <td>0.019594</td>\n",
       "      <td>0.021102</td>\n",
       "      <td>0.016320</td>\n",
       "      <td>0.024881</td>\n",
       "    </tr>\n",
       "  </tbody>\n",
       "</table>\n",
       "</div>"
      ],
      "text/plain": [
       "             change1   change2   change3   change4   change5\n",
       "date                                                        \n",
       "1994-01-01  0.000095  0.001622  0.002544  0.002159  0.004129\n",
       "1994-02-01  0.005220  0.010506  0.016879  0.021521  0.023933\n",
       "1994-03-01  0.009499  0.019883  0.035702  0.044843  0.049787\n",
       "1994-04-01  0.013133  0.027791  0.038103  0.051464  0.056815\n",
       "1994-05-01  0.012206  0.019594  0.021102  0.016320  0.024881"
      ]
     },
     "execution_count": 115,
     "metadata": {},
     "output_type": "execute_result"
    }
   ],
   "source": [
    "df_cg.head()"
   ]
  },
  {
   "cell_type": "code",
   "execution_count": 116,
   "metadata": {},
   "outputs": [],
   "source": [
    "def max2(x):\n",
    "    temp = sorted(x)\n",
    "    temp = temp[3]\n",
    "    for i in range(5):\n",
    "        if temp == x[i]:\n",
    "            return i\n",
    "def min2(x):\n",
    "    temp = sorted(x)\n",
    "    temp = temp[1]\n",
    "    for i in range(5):\n",
    "        if temp == x[i]:\n",
    "            return i\n",
    "def max1(x):\n",
    "    temp = sorted(x)\n",
    "    temp = temp[4]\n",
    "    for i in range(5):\n",
    "        if temp == x[i]:\n",
    "            return i\n",
    "def min1(x):\n",
    "    temp = sorted(x)\n",
    "    temp = temp[0]\n",
    "    for i in range(5):\n",
    "        if temp == x[i]:\n",
    "            return i\n",
    "        \n",
    "max2 = df_cg.apply(max2,axis=1)\n",
    "min2 = df_cg.apply(min2,axis=1)\n",
    "max1 = df_cg.apply(max1,axis=1)\n",
    "min1 = df_cg.apply(min1,axis=1)"
   ]
  },
  {
   "cell_type": "code",
   "execution_count": 117,
   "metadata": {},
   "outputs": [],
   "source": [
    "Long['1'] = (np.array([max1==0,max2==0]).T).sum(axis=1)\n",
    "Long['2'] = (np.array([max1==1,max2==1]).T).sum(axis=1)\n",
    "Long['3'] = (np.array([max1==2,max2==2]).T).sum(axis=1)\n",
    "Long['4'] = (np.array([max1==3,max2==3]).T).sum(axis=1)\n",
    "Long['5'] = (np.array([max1==4,max2==4]).T).sum(axis=1)"
   ]
  },
  {
   "cell_type": "code",
   "execution_count": 118,
   "metadata": {},
   "outputs": [],
   "source": [
    "Short['1'] = (np.array([min1==0,min2==0]).T).sum(axis=1)\n",
    "Short['2'] = (np.array([min1==1,min2==1]).T).sum(axis=1)\n",
    "Short['3'] = (np.array([min1==2,min2==2]).T).sum(axis=1)\n",
    "Short['4'] = (np.array([min1==3,min2==3]).T).sum(axis=1)\n",
    "Short['5'] = (np.array([min1==4,min2==4]).T).sum(axis=1)"
   ]
  },
  {
   "cell_type": "code",
   "execution_count": 119,
   "metadata": {},
   "outputs": [],
   "source": [
    "Long.to_csv(\"Long_View.csv\")\n",
    "Short.to_csv(\"Short_View.csv\")"
   ]
  },
  {
   "cell_type": "code",
   "execution_count": null,
   "metadata": {},
   "outputs": [],
   "source": []
  },
  {
   "cell_type": "code",
   "execution_count": null,
   "metadata": {},
   "outputs": [],
   "source": []
  }
 ],
 "metadata": {
  "kernelspec": {
   "display_name": "Python 3",
   "language": "python",
   "name": "python3"
  },
  "language_info": {
   "codemirror_mode": {
    "name": "ipython",
    "version": 3
   },
   "file_extension": ".py",
   "mimetype": "text/x-python",
   "name": "python",
   "nbconvert_exporter": "python",
   "pygments_lexer": "ipython3",
   "version": "3.7.4"
  }
 },
 "nbformat": 4,
 "nbformat_minor": 4
}
