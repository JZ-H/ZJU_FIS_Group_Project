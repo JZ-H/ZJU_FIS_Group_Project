{
 "cells": [
  {
   "cell_type": "code",
   "execution_count": 84,
   "metadata": {},
   "outputs": [],
   "source": [
    "import pandas as pd\n",
    "import datetime"
   ]
  },
  {
   "cell_type": "code",
   "execution_count": 85,
   "metadata": {
    "scrolled": true
   },
   "outputs": [
    {
     "name": "stderr",
     "output_type": "stream",
     "text": [
      "D:\\anaconda\\lib\\site-packages\\ipykernel_launcher.py:1: ParserWarning: Falling back to the 'python' engine because the 'c' engine does not support regex separators (separators > 1 char and different from '\\s+' are interpreted as regex); you can avoid this warning by specifying engine='python'.\n",
      "  \"\"\"Entry point for launching an IPython kernel.\n"
     ]
    }
   ],
   "source": [
    "txtdata=pd.read_table('Fama_Bliss_price.txt',sep='     ')\n",
    "txtdata['Date']=pd.to_datetime(txtdata['Date'],format='%Y%m%d')"
   ]
  },
  {
   "cell_type": "code",
   "execution_count": 93,
   "metadata": {},
   "outputs": [],
   "source": [
    "txtdata.to_csv('../Fama_Bliss_price.csv',sep=',',index=None)"
   ]
  },
  {
   "cell_type": "code",
   "execution_count": 92,
   "metadata": {},
   "outputs": [
    {
     "data": {
      "text/html": [
       "<div>\n",
       "<style scoped>\n",
       "    .dataframe tbody tr th:only-of-type {\n",
       "        vertical-align: middle;\n",
       "    }\n",
       "\n",
       "    .dataframe tbody tr th {\n",
       "        vertical-align: top;\n",
       "    }\n",
       "\n",
       "    .dataframe thead th {\n",
       "        text-align: right;\n",
       "    }\n",
       "</style>\n",
       "<table border=\"1\" class=\"dataframe\">\n",
       "  <thead>\n",
       "    <tr style=\"text-align: right;\">\n",
       "      <th></th>\n",
       "      <th>Date</th>\n",
       "      <th>Price1</th>\n",
       "      <th>Price2</th>\n",
       "      <th>Price3</th>\n",
       "      <th>Price4</th>\n",
       "      <th>Price5</th>\n",
       "    </tr>\n",
       "  </thead>\n",
       "  <tbody>\n",
       "    <tr>\n",
       "      <th>0</th>\n",
       "      <td>1953-01-30</td>\n",
       "      <td>98.051</td>\n",
       "      <td>95.796</td>\n",
       "      <td>93.800</td>\n",
       "      <td>91.812</td>\n",
       "      <td>89.271</td>\n",
       "    </tr>\n",
       "    <tr>\n",
       "      <th>1</th>\n",
       "      <td>1953-02-27</td>\n",
       "      <td>97.950</td>\n",
       "      <td>95.703</td>\n",
       "      <td>93.666</td>\n",
       "      <td>91.617</td>\n",
       "      <td>88.923</td>\n",
       "    </tr>\n",
       "    <tr>\n",
       "      <th>2</th>\n",
       "      <td>1953-03-31</td>\n",
       "      <td>97.947</td>\n",
       "      <td>95.668</td>\n",
       "      <td>93.193</td>\n",
       "      <td>91.002</td>\n",
       "      <td>88.317</td>\n",
       "    </tr>\n",
       "    <tr>\n",
       "      <th>3</th>\n",
       "      <td>1953-04-30</td>\n",
       "      <td>97.664</td>\n",
       "      <td>95.161</td>\n",
       "      <td>93.622</td>\n",
       "      <td>90.763</td>\n",
       "      <td>87.408</td>\n",
       "    </tr>\n",
       "    <tr>\n",
       "      <th>4</th>\n",
       "      <td>1953-05-29</td>\n",
       "      <td>97.445</td>\n",
       "      <td>94.815</td>\n",
       "      <td>93.002</td>\n",
       "      <td>90.016</td>\n",
       "      <td>85.910</td>\n",
       "    </tr>\n",
       "    <tr>\n",
       "      <th>...</th>\n",
       "      <td>...</td>\n",
       "      <td>...</td>\n",
       "      <td>...</td>\n",
       "      <td>...</td>\n",
       "      <td>...</td>\n",
       "      <td>...</td>\n",
       "    </tr>\n",
       "    <tr>\n",
       "      <th>727</th>\n",
       "      <td>2013-08-30</td>\n",
       "      <td>99.841</td>\n",
       "      <td>99.182</td>\n",
       "      <td>97.564</td>\n",
       "      <td>94.955</td>\n",
       "      <td>92.014</td>\n",
       "    </tr>\n",
       "    <tr>\n",
       "      <th>728</th>\n",
       "      <td>2013-09-30</td>\n",
       "      <td>99.880</td>\n",
       "      <td>99.361</td>\n",
       "      <td>98.073</td>\n",
       "      <td>95.866</td>\n",
       "      <td>93.278</td>\n",
       "    </tr>\n",
       "    <tr>\n",
       "      <th>729</th>\n",
       "      <td>2013-10-31</td>\n",
       "      <td>99.870</td>\n",
       "      <td>99.393</td>\n",
       "      <td>98.182</td>\n",
       "      <td>96.074</td>\n",
       "      <td>93.529</td>\n",
       "    </tr>\n",
       "    <tr>\n",
       "      <th>730</th>\n",
       "      <td>2013-11-29</td>\n",
       "      <td>99.835</td>\n",
       "      <td>99.423</td>\n",
       "      <td>98.265</td>\n",
       "      <td>96.045</td>\n",
       "      <td>93.351</td>\n",
       "    </tr>\n",
       "    <tr>\n",
       "      <th>731</th>\n",
       "      <td>2013-12-31</td>\n",
       "      <td>99.832</td>\n",
       "      <td>99.219</td>\n",
       "      <td>97.617</td>\n",
       "      <td>94.852</td>\n",
       "      <td>91.599</td>\n",
       "    </tr>\n",
       "  </tbody>\n",
       "</table>\n",
       "<p>732 rows × 6 columns</p>\n",
       "</div>"
      ],
      "text/plain": [
       "          Date  Price1  Price2  Price3  Price4  Price5\n",
       "0   1953-01-30  98.051  95.796  93.800  91.812  89.271\n",
       "1   1953-02-27  97.950  95.703  93.666  91.617  88.923\n",
       "2   1953-03-31  97.947  95.668  93.193  91.002  88.317\n",
       "3   1953-04-30  97.664  95.161  93.622  90.763  87.408\n",
       "4   1953-05-29  97.445  94.815  93.002  90.016  85.910\n",
       "..         ...     ...     ...     ...     ...     ...\n",
       "727 2013-08-30  99.841  99.182  97.564  94.955  92.014\n",
       "728 2013-09-30  99.880  99.361  98.073  95.866  93.278\n",
       "729 2013-10-31  99.870  99.393  98.182  96.074  93.529\n",
       "730 2013-11-29  99.835  99.423  98.265  96.045  93.351\n",
       "731 2013-12-31  99.832  99.219  97.617  94.852  91.599\n",
       "\n",
       "[732 rows x 6 columns]"
      ]
     },
     "execution_count": 92,
     "metadata": {},
     "output_type": "execute_result"
    }
   ],
   "source": []
  },
  {
   "cell_type": "code",
   "execution_count": null,
   "metadata": {},
   "outputs": [],
   "source": []
  }
 ],
 "metadata": {
  "kernelspec": {
   "display_name": "Python 3",
   "language": "python",
   "name": "python3"
  },
  "language_info": {
   "codemirror_mode": {
    "name": "ipython",
    "version": 3
   },
   "file_extension": ".py",
   "mimetype": "text/x-python",
   "name": "python",
   "nbconvert_exporter": "python",
   "pygments_lexer": "ipython3",
   "version": "3.7.6"
  }
 },
 "nbformat": 4,
 "nbformat_minor": 4
}
