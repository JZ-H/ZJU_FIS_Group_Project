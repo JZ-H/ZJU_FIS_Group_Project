{
 "cells": [
  {
   "cell_type": "markdown",
   "metadata": {},
   "source": [
    "# Index for Return\n",
    "\n",
    "- As the maturity of the bond increases, the MAPE and RMSE also increase\n"
   ]
  },
  {
   "cell_type": "code",
   "execution_count": 4,
   "metadata": {},
   "outputs": [],
   "source": [
    "import math\n",
    "import matplotlib\n",
    "import numpy as np\n",
    "import pandas as pd\n",
    "import time\n",
    "\n",
    "from sklearn.metrics import mean_squared_error\n",
    "from datetime import date\n",
    "from matplotlib import pyplot as plt\n",
    "def get_mape(y_true, y_pred): \n",
    "    \"\"\"\n",
    "    Compute mean absolute percentage error (MAPE)\n",
    "    \"\"\"\n",
    "    y_true, y_pred = np.array(y_true), np.array(y_pred)\n",
    "    return np.mean(np.abs((y_true - y_pred) / y_true)) * 100"
   ]
  },
  {
   "cell_type": "code",
   "execution_count": 12,
   "metadata": {},
   "outputs": [],
   "source": [
    "df_1 = pd.read_csv(\"DataFre_3M_TranFreq_3M_Price1_xgboost.csv\")\n",
    "df_2 = pd.read_csv(\"DataFre_3M_TranFreq_3M_Price2_xgboost.csv\")\n",
    "df_3 = pd.read_csv(\"DataFre_3M_TranFreq_3M_Price3_xgboost.csv\")\n",
    "df_4 = pd.read_csv(\"DataFre_3M_TranFreq_3M_Price4_xgboost.csv\")\n",
    "df_5 = pd.read_csv(\"DataFre_3M_TranFreq_3M_Price5_xgboost.csv\")"
   ]
  },
  {
   "cell_type": "code",
   "execution_count": 13,
   "metadata": {},
   "outputs": [
    {
     "data": {
      "text/html": [
       "<div>\n",
       "<style scoped>\n",
       "    .dataframe tbody tr th:only-of-type {\n",
       "        vertical-align: middle;\n",
       "    }\n",
       "\n",
       "    .dataframe tbody tr th {\n",
       "        vertical-align: top;\n",
       "    }\n",
       "\n",
       "    .dataframe thead th {\n",
       "        text-align: right;\n",
       "    }\n",
       "</style>\n",
       "<table border=\"1\" class=\"dataframe\">\n",
       "  <thead>\n",
       "    <tr style=\"text-align: right;\">\n",
       "      <th></th>\n",
       "      <th>date</th>\n",
       "      <th>est</th>\n",
       "      <th>y_sample</th>\n",
       "      <th>date.1</th>\n",
       "    </tr>\n",
       "  </thead>\n",
       "  <tbody>\n",
       "    <tr>\n",
       "      <th>0</th>\n",
       "      <td>1994-01-01</td>\n",
       "      <td>96.665548</td>\n",
       "      <td>96.544</td>\n",
       "      <td>1994-01-01</td>\n",
       "    </tr>\n",
       "    <tr>\n",
       "      <th>1</th>\n",
       "      <td>1994-04-01</td>\n",
       "      <td>96.574424</td>\n",
       "      <td>95.138</td>\n",
       "      <td>1994-04-01</td>\n",
       "    </tr>\n",
       "    <tr>\n",
       "      <th>2</th>\n",
       "      <td>1994-07-01</td>\n",
       "      <td>96.400020</td>\n",
       "      <td>94.806</td>\n",
       "      <td>1994-07-01</td>\n",
       "    </tr>\n",
       "    <tr>\n",
       "      <th>3</th>\n",
       "      <td>1994-10-01</td>\n",
       "      <td>95.448301</td>\n",
       "      <td>94.136</td>\n",
       "      <td>1994-10-01</td>\n",
       "    </tr>\n",
       "    <tr>\n",
       "      <th>4</th>\n",
       "      <td>1995-01-01</td>\n",
       "      <td>94.311698</td>\n",
       "      <td>93.479</td>\n",
       "      <td>1995-01-01</td>\n",
       "    </tr>\n",
       "    <tr>\n",
       "      <th>5</th>\n",
       "      <td>1995-04-01</td>\n",
       "      <td>93.797351</td>\n",
       "      <td>93.940</td>\n",
       "      <td>1995-04-01</td>\n",
       "    </tr>\n",
       "    <tr>\n",
       "      <th>6</th>\n",
       "      <td>1995-07-01</td>\n",
       "      <td>93.566479</td>\n",
       "      <td>94.564</td>\n",
       "      <td>1995-07-01</td>\n",
       "    </tr>\n",
       "    <tr>\n",
       "      <th>7</th>\n",
       "      <td>1995-10-01</td>\n",
       "      <td>93.731946</td>\n",
       "      <td>94.621</td>\n",
       "      <td>1995-10-01</td>\n",
       "    </tr>\n",
       "    <tr>\n",
       "      <th>8</th>\n",
       "      <td>1996-01-01</td>\n",
       "      <td>94.463293</td>\n",
       "      <td>95.216</td>\n",
       "      <td>1996-01-01</td>\n",
       "    </tr>\n",
       "    <tr>\n",
       "      <th>9</th>\n",
       "      <td>1996-04-01</td>\n",
       "      <td>94.794428</td>\n",
       "      <td>94.618</td>\n",
       "      <td>1996-04-01</td>\n",
       "    </tr>\n",
       "    <tr>\n",
       "      <th>10</th>\n",
       "      <td>1996-07-01</td>\n",
       "      <td>94.800628</td>\n",
       "      <td>94.301</td>\n",
       "      <td>1996-07-01</td>\n",
       "    </tr>\n",
       "    <tr>\n",
       "      <th>11</th>\n",
       "      <td>1996-10-01</td>\n",
       "      <td>94.661260</td>\n",
       "      <td>94.707</td>\n",
       "      <td>1996-10-01</td>\n",
       "    </tr>\n",
       "    <tr>\n",
       "      <th>12</th>\n",
       "      <td>1997-01-01</td>\n",
       "      <td>94.514645</td>\n",
       "      <td>94.675</td>\n",
       "      <td>1997-01-01</td>\n",
       "    </tr>\n",
       "    <tr>\n",
       "      <th>13</th>\n",
       "      <td>1997-04-01</td>\n",
       "      <td>94.531688</td>\n",
       "      <td>94.360</td>\n",
       "      <td>1997-04-01</td>\n",
       "    </tr>\n",
       "    <tr>\n",
       "      <th>14</th>\n",
       "      <td>1997-07-01</td>\n",
       "      <td>94.485055</td>\n",
       "      <td>94.647</td>\n",
       "      <td>1997-07-01</td>\n",
       "    </tr>\n",
       "    <tr>\n",
       "      <th>15</th>\n",
       "      <td>1997-10-01</td>\n",
       "      <td>94.453755</td>\n",
       "      <td>94.853</td>\n",
       "      <td>1997-10-01</td>\n",
       "    </tr>\n",
       "    <tr>\n",
       "      <th>16</th>\n",
       "      <td>1998-01-01</td>\n",
       "      <td>94.445590</td>\n",
       "      <td>94.981</td>\n",
       "      <td>1998-01-01</td>\n",
       "    </tr>\n",
       "    <tr>\n",
       "      <th>17</th>\n",
       "      <td>1998-04-01</td>\n",
       "      <td>94.763973</td>\n",
       "      <td>94.810</td>\n",
       "      <td>1998-04-01</td>\n",
       "    </tr>\n",
       "    <tr>\n",
       "      <th>18</th>\n",
       "      <td>1998-07-01</td>\n",
       "      <td>94.857388</td>\n",
       "      <td>94.738</td>\n",
       "      <td>1998-07-01</td>\n",
       "    </tr>\n",
       "    <tr>\n",
       "      <th>19</th>\n",
       "      <td>1998-10-01</td>\n",
       "      <td>94.861855</td>\n",
       "      <td>95.725</td>\n",
       "      <td>1998-10-01</td>\n",
       "    </tr>\n",
       "    <tr>\n",
       "      <th>20</th>\n",
       "      <td>1999-01-01</td>\n",
       "      <td>95.344014</td>\n",
       "      <td>95.619</td>\n",
       "      <td>1999-01-01</td>\n",
       "    </tr>\n",
       "    <tr>\n",
       "      <th>21</th>\n",
       "      <td>1999-04-01</td>\n",
       "      <td>95.678770</td>\n",
       "      <td>95.409</td>\n",
       "      <td>1999-04-01</td>\n",
       "    </tr>\n",
       "    <tr>\n",
       "      <th>22</th>\n",
       "      <td>1999-07-01</td>\n",
       "      <td>95.615052</td>\n",
       "      <td>94.825</td>\n",
       "      <td>1999-07-01</td>\n",
       "    </tr>\n",
       "    <tr>\n",
       "      <th>23</th>\n",
       "      <td>1999-10-01</td>\n",
       "      <td>95.320549</td>\n",
       "      <td>94.587</td>\n",
       "      <td>1999-10-01</td>\n",
       "    </tr>\n",
       "  </tbody>\n",
       "</table>\n",
       "</div>"
      ],
      "text/plain": [
       "          date        est  y_sample      date.1\n",
       "0   1994-01-01  96.665548    96.544  1994-01-01\n",
       "1   1994-04-01  96.574424    95.138  1994-04-01\n",
       "2   1994-07-01  96.400020    94.806  1994-07-01\n",
       "3   1994-10-01  95.448301    94.136  1994-10-01\n",
       "4   1995-01-01  94.311698    93.479  1995-01-01\n",
       "5   1995-04-01  93.797351    93.940  1995-04-01\n",
       "6   1995-07-01  93.566479    94.564  1995-07-01\n",
       "7   1995-10-01  93.731946    94.621  1995-10-01\n",
       "8   1996-01-01  94.463293    95.216  1996-01-01\n",
       "9   1996-04-01  94.794428    94.618  1996-04-01\n",
       "10  1996-07-01  94.800628    94.301  1996-07-01\n",
       "11  1996-10-01  94.661260    94.707  1996-10-01\n",
       "12  1997-01-01  94.514645    94.675  1997-01-01\n",
       "13  1997-04-01  94.531688    94.360  1997-04-01\n",
       "14  1997-07-01  94.485055    94.647  1997-07-01\n",
       "15  1997-10-01  94.453755    94.853  1997-10-01\n",
       "16  1998-01-01  94.445590    94.981  1998-01-01\n",
       "17  1998-04-01  94.763973    94.810  1998-04-01\n",
       "18  1998-07-01  94.857388    94.738  1998-07-01\n",
       "19  1998-10-01  94.861855    95.725  1998-10-01\n",
       "20  1999-01-01  95.344014    95.619  1999-01-01\n",
       "21  1999-04-01  95.678770    95.409  1999-04-01\n",
       "22  1999-07-01  95.615052    94.825  1999-07-01\n",
       "23  1999-10-01  95.320549    94.587  1999-10-01"
      ]
     },
     "execution_count": 13,
     "metadata": {},
     "output_type": "execute_result"
    }
   ],
   "source": [
    "df_1"
   ]
  },
  {
   "cell_type": "code",
   "execution_count": 14,
   "metadata": {},
   "outputs": [],
   "source": [
    "df_2_er_est = np.log(df_2['est'].shift(-1)) - np.log(df_2['est']) - np.log(df_1['y_sample']/100)\n",
    "df_3_er_est = np.log(df_3['est'].shift(-1)) - np.log(df_3['est']) - np.log(df_1['y_sample']/100)\n",
    "df_4_er_est = np.log(df_4['est'].shift(-1)) - np.log(df_4['est']) - np.log(df_1['y_sample']/100)\n",
    "df_5_er_est = np.log(df_5['est'].shift(-1)) - np.log(df_5['est']) - np.log(df_1['y_sample']/100)\n",
    "df_ave_er_est = (df_2_er_est+df_3_er_est+df_4_er_est+df_5_er_est)/4\n",
    "df_ave_er_est = df_ave_er_est[:-1]\n",
    "df_2_er_est = df_2_er_est[:-1]\n",
    "df_3_er_est = df_3_er_est[:-1]\n",
    "df_4_er_est = df_4_er_est[:-1]\n",
    "df_5_er_est = df_5_er_est[:-1]\n",
    "\n",
    "df_2_er = np.log(df_2['y_sample'].shift(-1)) - np.log(df_2['y_sample']) - np.log(df_1['y_sample']/100)\n",
    "df_3_er = np.log(df_3['y_sample'].shift(-1)) - np.log(df_3['y_sample']) - np.log(df_1['y_sample']/100)\n",
    "df_4_er = np.log(df_4['y_sample'].shift(-1)) - np.log(df_4['y_sample']) - np.log(df_1['y_sample']/100)\n",
    "df_5_er = np.log(df_5['y_sample'].shift(-1)) - np.log(df_5['y_sample']) - np.log(df_1['y_sample']/100)\n",
    "df_ave_er = (df_2_er+df_3_er+df_4_er+df_5_er)/4\n",
    "df_ave_er = df_ave_er[:-1]\n",
    "df_2_er = df_2_er[:-1]\n",
    "df_3_er = df_3_er[:-1]\n",
    "df_4_er = df_4_er[:-1]\n",
    "df_5_er = df_5_er[:-1]"
   ]
  },
  {
   "cell_type": "code",
   "execution_count": 15,
   "metadata": {},
   "outputs": [
    {
     "name": "stdout",
     "output_type": "stream",
     "text": [
      "RMSE for Price 2 on test set = 0.015\n",
      "MAPE for Price 2 on test set = 69.208%\n"
     ]
    }
   ],
   "source": [
    "rmse_2 = math.sqrt(mean_squared_error(df_2_er, df_2_er_est))\n",
    "mape_2 = get_mape(df_2_er, df_2_er_est)\n",
    "print(\"RMSE for Price 2 on test set = %0.3f\" % rmse_2)\n",
    "print(\"MAPE for Price 2 on test set = %0.3f%%\" % mape_2)"
   ]
  },
  {
   "cell_type": "code",
   "execution_count": 16,
   "metadata": {},
   "outputs": [
    {
     "name": "stdout",
     "output_type": "stream",
     "text": [
      "RMSE for Price 3 on test set = 0.023\n",
      "MAPE for Price 3 on test set = 55.587%\n"
     ]
    }
   ],
   "source": [
    "rmse_3 = math.sqrt(mean_squared_error(df_3_er, df_3_er_est))\n",
    "mape_3 = get_mape(df_3_er, df_3_er_est)\n",
    "print(\"RMSE for Price 3 on test set = %0.3f\" % rmse_3)\n",
    "print(\"MAPE for Price 3 on test set = %0.3f%%\" % mape_3)"
   ]
  },
  {
   "cell_type": "code",
   "execution_count": 17,
   "metadata": {},
   "outputs": [
    {
     "name": "stdout",
     "output_type": "stream",
     "text": [
      "RMSE for Price 4 on test set = 0.031\n",
      "MAPE for Price 4 on test set = 130.591%\n"
     ]
    }
   ],
   "source": [
    "rmse_4 = math.sqrt(mean_squared_error(df_4_er, df_4_er_est))\n",
    "mape_4 = get_mape(df_4_er, df_4_er_est)\n",
    "print(\"RMSE for Price 4 on test set = %0.3f\" % rmse_4)\n",
    "print(\"MAPE for Price 4 on test set = %0.3f%%\" % mape_4)"
   ]
  },
  {
   "cell_type": "code",
   "execution_count": 18,
   "metadata": {},
   "outputs": [
    {
     "name": "stdout",
     "output_type": "stream",
     "text": [
      "RMSE for Price 5 on test set = 0.038\n",
      "MAPE for Price 5 on test set = 129.820%\n"
     ]
    }
   ],
   "source": [
    "rmse_5 = math.sqrt(mean_squared_error(df_5_er, df_5_er_est))\n",
    "mape_5 = get_mape(df_5_er, df_5_er_est)\n",
    "print(\"RMSE for Price 5 on test set = %0.3f\" % rmse_5)\n",
    "print(\"MAPE for Price 5 on test set = %0.3f%%\" % mape_5)"
   ]
  },
  {
   "cell_type": "code",
   "execution_count": 19,
   "metadata": {},
   "outputs": [
    {
     "name": "stdout",
     "output_type": "stream",
     "text": [
      "RMSE on test set = 0.027\n",
      "MAPE on test set = 70.675%\n"
     ]
    }
   ],
   "source": [
    "rmse_ave = math.sqrt(mean_squared_error(df_ave_er, df_ave_er_est))\n",
    "mape_ave = get_mape(df_ave_er, df_ave_er_est)\n",
    "print(\"RMSE on test set = %0.3f\" % rmse_ave)\n",
    "print(\"MAPE on test set = %0.3f%%\" % mape_ave)"
   ]
  },
  {
   "cell_type": "code",
   "execution_count": 21,
   "metadata": {},
   "outputs": [],
   "source": [
    "df_result = pd.DataFrame({\"average\":[rmse_ave,mape_ave],\"rx(2)\":[rmse_2,mape_2],\"rx(3)\":[rmse_3,mape_3],\"rx(4)\":[rmse_4,mape_4],\"rx(5)\":[rmse_5,mape_5]},index=['RMSE','MAPE-%'])"
   ]
  },
  {
   "cell_type": "code",
   "execution_count": 22,
   "metadata": {},
   "outputs": [],
   "source": [
    "df_result.to_csv(\"Result_RMSE_MAPE_Freq_3M.csv\")"
   ]
  },
  {
   "cell_type": "code",
   "execution_count": null,
   "metadata": {},
   "outputs": [],
   "source": []
  }
 ],
 "metadata": {
  "kernelspec": {
   "display_name": "Python 3",
   "language": "python",
   "name": "python3"
  },
  "language_info": {
   "codemirror_mode": {
    "name": "ipython",
    "version": 3
   },
   "file_extension": ".py",
   "mimetype": "text/x-python",
   "name": "python",
   "nbconvert_exporter": "python",
   "pygments_lexer": "ipython3",
   "version": "3.7.6"
  }
 },
 "nbformat": 4,
 "nbformat_minor": 4
}
