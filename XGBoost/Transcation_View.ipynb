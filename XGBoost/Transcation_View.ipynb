{
 "cells": [
  {
   "cell_type": "code",
   "execution_count": 5,
   "metadata": {},
   "outputs": [],
   "source": [
    "import pandas as pd\n",
    "import numpy as np"
   ]
  },
  {
   "cell_type": "code",
   "execution_count": 7,
   "metadata": {},
   "outputs": [],
   "source": [
    "df1 = pd.read_csv('Out/DataFre_1M_TranFreq_1M_Price1_xgboost.csv')\n",
    "df2 = pd.read_csv('Out/DataFre_1M_TranFreq_1M_Price2_xgboost.csv')\n",
    "df3 = pd.read_csv('Out/DataFre_1M_TranFreq_1M_Price3_xgboost.csv')\n",
    "df4 = pd.read_csv('Out/DataFre_1M_TranFreq_1M_Price4_xgboost.csv')\n",
    "df5 = pd.read_csv('Out/DataFre_1M_TranFreq_1M_Price5_xgboost.csv')\n",
    "df1['change'] = df1['est'] - df1['y_sample']\n",
    "df2['change'] = df2['est'] - df2['y_sample']\n",
    "df3['change'] = df3['est'] - df3['y_sample']\n",
    "df4['change'] = df4['est'] - df4['y_sample']\n",
    "df5['change'] = df5['est'] - df5['y_sample']"
   ]
  },
  {
   "cell_type": "code",
   "execution_count": 8,
   "metadata": {},
   "outputs": [],
   "source": [
    "df_cg = pd.concat([df1['date'],df1['change'],df2['change'],df3['change'],df4['change'],df5['change']],axis=1)"
   ]
  },
  {
   "cell_type": "code",
   "execution_count": 9,
   "metadata": {},
   "outputs": [],
   "source": [
    "df_cg.columns =['date', 'change1', 'change2', 'change3', 'change4', 'change5']\n",
    "df_cg.index = df_cg['date']\n",
    "df_cg.drop(['date'],axis=1,inplace=True)"
   ]
  },
  {
   "cell_type": "code",
   "execution_count": 10,
   "metadata": {},
   "outputs": [],
   "source": [
    "Long  = pd.DataFrame(df1['date'],columns = ['date'])\n",
    "Short = pd.DataFrame(df1['date'],columns = ['date'])"
   ]
  },
  {
   "cell_type": "code",
   "execution_count": 11,
   "metadata": {},
   "outputs": [
    {
     "data": {
      "text/html": [
       "<div>\n",
       "<style scoped>\n",
       "    .dataframe tbody tr th:only-of-type {\n",
       "        vertical-align: middle;\n",
       "    }\n",
       "\n",
       "    .dataframe tbody tr th {\n",
       "        vertical-align: top;\n",
       "    }\n",
       "\n",
       "    .dataframe thead th {\n",
       "        text-align: right;\n",
       "    }\n",
       "</style>\n",
       "<table border=\"1\" class=\"dataframe\">\n",
       "  <thead>\n",
       "    <tr style=\"text-align: right;\">\n",
       "      <th></th>\n",
       "      <th>change1</th>\n",
       "      <th>change2</th>\n",
       "      <th>change3</th>\n",
       "      <th>change4</th>\n",
       "      <th>change5</th>\n",
       "    </tr>\n",
       "    <tr>\n",
       "      <th>date</th>\n",
       "      <th></th>\n",
       "      <th></th>\n",
       "      <th></th>\n",
       "      <th></th>\n",
       "      <th></th>\n",
       "    </tr>\n",
       "  </thead>\n",
       "  <tbody>\n",
       "    <tr>\n",
       "      <th>1994-01-01</th>\n",
       "      <td>0.009124</td>\n",
       "      <td>0.149617</td>\n",
       "      <td>0.222996</td>\n",
       "      <td>0.178819</td>\n",
       "      <td>0.322024</td>\n",
       "    </tr>\n",
       "    <tr>\n",
       "      <th>1994-02-01</th>\n",
       "      <td>0.502496</td>\n",
       "      <td>0.962517</td>\n",
       "      <td>1.464036</td>\n",
       "      <td>1.756583</td>\n",
       "      <td>1.831811</td>\n",
       "    </tr>\n",
       "    <tr>\n",
       "      <th>1994-03-01</th>\n",
       "      <td>0.912652</td>\n",
       "      <td>1.811320</td>\n",
       "      <td>3.066418</td>\n",
       "      <td>3.610092</td>\n",
       "      <td>3.742996</td>\n",
       "    </tr>\n",
       "    <tr>\n",
       "      <th>1994-04-01</th>\n",
       "      <td>1.257705</td>\n",
       "      <td>2.515150</td>\n",
       "      <td>3.232316</td>\n",
       "      <td>4.083616</td>\n",
       "      <td>4.204134</td>\n",
       "    </tr>\n",
       "    <tr>\n",
       "      <th>1994-05-01</th>\n",
       "      <td>1.164743</td>\n",
       "      <td>1.757299</td>\n",
       "      <td>1.764459</td>\n",
       "      <td>1.266139</td>\n",
       "      <td>1.800888</td>\n",
       "    </tr>\n",
       "    <tr>\n",
       "      <th>...</th>\n",
       "      <td>...</td>\n",
       "      <td>...</td>\n",
       "      <td>...</td>\n",
       "      <td>...</td>\n",
       "      <td>...</td>\n",
       "    </tr>\n",
       "    <tr>\n",
       "      <th>1999-08-01</th>\n",
       "      <td>0.308181</td>\n",
       "      <td>0.353821</td>\n",
       "      <td>0.546466</td>\n",
       "      <td>0.786061</td>\n",
       "      <td>0.834235</td>\n",
       "    </tr>\n",
       "    <tr>\n",
       "      <th>1999-09-01</th>\n",
       "      <td>0.039043</td>\n",
       "      <td>-0.009828</td>\n",
       "      <td>-0.093120</td>\n",
       "      <td>0.116354</td>\n",
       "      <td>0.043544</td>\n",
       "    </tr>\n",
       "    <tr>\n",
       "      <th>1999-10-01</th>\n",
       "      <td>0.167135</td>\n",
       "      <td>0.276706</td>\n",
       "      <td>0.303767</td>\n",
       "      <td>0.532931</td>\n",
       "      <td>0.483732</td>\n",
       "    </tr>\n",
       "    <tr>\n",
       "      <th>1999-11-01</th>\n",
       "      <td>0.267649</td>\n",
       "      <td>0.511037</td>\n",
       "      <td>0.546866</td>\n",
       "      <td>0.604629</td>\n",
       "      <td>0.661344</td>\n",
       "    </tr>\n",
       "    <tr>\n",
       "      <th>1999-12-01</th>\n",
       "      <td>0.189826</td>\n",
       "      <td>0.652952</td>\n",
       "      <td>0.902445</td>\n",
       "      <td>1.131132</td>\n",
       "      <td>1.373028</td>\n",
       "    </tr>\n",
       "  </tbody>\n",
       "</table>\n",
       "<p>72 rows × 5 columns</p>\n",
       "</div>"
      ],
      "text/plain": [
       "             change1   change2   change3   change4   change5\n",
       "date                                                        \n",
       "1994-01-01  0.009124  0.149617  0.222996  0.178819  0.322024\n",
       "1994-02-01  0.502496  0.962517  1.464036  1.756583  1.831811\n",
       "1994-03-01  0.912652  1.811320  3.066418  3.610092  3.742996\n",
       "1994-04-01  1.257705  2.515150  3.232316  4.083616  4.204134\n",
       "1994-05-01  1.164743  1.757299  1.764459  1.266139  1.800888\n",
       "...              ...       ...       ...       ...       ...\n",
       "1999-08-01  0.308181  0.353821  0.546466  0.786061  0.834235\n",
       "1999-09-01  0.039043 -0.009828 -0.093120  0.116354  0.043544\n",
       "1999-10-01  0.167135  0.276706  0.303767  0.532931  0.483732\n",
       "1999-11-01  0.267649  0.511037  0.546866  0.604629  0.661344\n",
       "1999-12-01  0.189826  0.652952  0.902445  1.131132  1.373028\n",
       "\n",
       "[72 rows x 5 columns]"
      ]
     },
     "execution_count": 11,
     "metadata": {},
     "output_type": "execute_result"
    }
   ],
   "source": [
    "df_cg"
   ]
  },
  {
   "cell_type": "code",
   "execution_count": 12,
   "metadata": {},
   "outputs": [],
   "source": [
    "def max2(x):\n",
    "    temp = sorted(x)\n",
    "    temp = temp[3]\n",
    "    for i in range(5):\n",
    "        if temp == x[i]:\n",
    "            return i\n",
    "def min2(x):\n",
    "    temp = sorted(x)\n",
    "    temp = temp[1]\n",
    "    for i in range(5):\n",
    "        if temp == x[i]:\n",
    "            return i\n",
    "def max1(x):\n",
    "    temp = sorted(x)\n",
    "    temp = temp[4]\n",
    "    for i in range(5):\n",
    "        if temp == x[i]:\n",
    "            return i\n",
    "def min1(x):\n",
    "    temp = sorted(x)\n",
    "    temp = temp[0]\n",
    "    for i in range(5):\n",
    "        if temp == x[i]:\n",
    "            return i\n",
    "        \n",
    "max2 = df_cg.apply(max2,axis=1)\n",
    "min2 = df_cg.apply(min2,axis=1)\n",
    "max1 = df_cg.apply(max1,axis=1)\n",
    "min1 = df_cg.apply(min1,axis=1)"
   ]
  },
  {
   "cell_type": "code",
   "execution_count": 13,
   "metadata": {},
   "outputs": [],
   "source": [
    "Long['1'] = (np.array([max1==0,max2==0]).T).sum(axis=1)\n",
    "Long['2'] = (np.array([max1==1,max2==1]).T).sum(axis=1)\n",
    "Long['3'] = (np.array([max1==2,max2==2]).T).sum(axis=1)\n",
    "Long['4'] = (np.array([max1==3,max2==3]).T).sum(axis=1)\n",
    "Long['5'] = (np.array([max1==4,max2==4]).T).sum(axis=1)"
   ]
  },
  {
   "cell_type": "code",
   "execution_count": 14,
   "metadata": {},
   "outputs": [],
   "source": [
    "Short['1'] = (np.array([min1==0,min2==0]).T).sum(axis=1)\n",
    "Short['2'] = (np.array([min1==1,min2==1]).T).sum(axis=1)\n",
    "Short['3'] = (np.array([min1==2,min2==2]).T).sum(axis=1)\n",
    "Short['4'] = (np.array([min1==3,min2==3]).T).sum(axis=1)\n",
    "Short['5'] = (np.array([min1==4,min2==4]).T).sum(axis=1)"
   ]
  },
  {
   "cell_type": "code",
   "execution_count": 17,
   "metadata": {},
   "outputs": [],
   "source": [
    "Long.to_csv(\"../Strategy_Backtest/Long_View.csv\")\n",
    "Short.to_csv(\"../Strategy_Backtest/Short_View.csv\")"
   ]
  },
  {
   "cell_type": "code",
   "execution_count": null,
   "metadata": {},
   "outputs": [],
   "source": []
  },
  {
   "cell_type": "code",
   "execution_count": null,
   "metadata": {},
   "outputs": [],
   "source": []
  }
 ],
 "metadata": {
  "kernelspec": {
   "display_name": "Python 3",
   "language": "python",
   "name": "python3"
  },
  "language_info": {
   "codemirror_mode": {
    "name": "ipython",
    "version": 3
   },
   "file_extension": ".py",
   "mimetype": "text/x-python",
   "name": "python",
   "nbconvert_exporter": "python",
   "pygments_lexer": "ipython3",
   "version": "3.7.6"
  }
 },
 "nbformat": 4,
 "nbformat_minor": 4
}
