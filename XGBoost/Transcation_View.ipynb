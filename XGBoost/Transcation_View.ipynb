{
 "cells": [
  {
   "cell_type": "code",
   "execution_count": 31,
   "metadata": {},
   "outputs": [],
   "source": [
    "import pandas as pd\n",
    "import numpy as np"
   ]
  },
  {
   "cell_type": "code",
   "execution_count": 51,
   "metadata": {},
   "outputs": [],
   "source": [
    "df1 = pd.read_csv('Out/DataFre_1M_TranFreq_1M_Price1_xgboost.csv')\n",
    "df2 = pd.read_csv('Out/DataFre_1M_TranFreq_1M_Price2_xgboost.csv')\n",
    "df3 = pd.read_csv('Out/DataFre_1M_TranFreq_1M_Price3_xgboost.csv')\n",
    "df4 = pd.read_csv('Out/DataFre_1M_TranFreq_1M_Price4_xgboost.csv')\n",
    "df5 = pd.read_csv('Out/DataFre_1M_TranFreq_1M_Price5_xgboost.csv')\n",
    "df1['change'] = (np.log(df1['est'])/100 - np.log(df1['y_sample'])/100)\n",
    "df2['change'] = (np.log(df2['est'])/100 - np.log(df2['y_sample'])/100)\n",
    "df3['change'] = (np.log(df3['est'])/100 - np.log(df3['y_sample'])/100)\n",
    "df4['change'] = (np.log(df4['est'])/100 - np.log(df4['y_sample'])/100)\n",
    "df5['change'] = (np.log(df5['est'])/100 - np.log(df5['y_sample'])/100)"
   ]
  },
  {
   "cell_type": "code",
   "execution_count": 32,
   "metadata": {},
   "outputs": [],
   "source": [
    "df1['change'] = (df1['est'] - df1['y_sample'])/df1['y_sample']\n",
    "df2['change'] = (df2['est'] - df2['y_sample'])/df2['y_sample']\n",
    "df3['change'] = (df3['est'] - df3['y_sample'])/df3['y_sample']\n",
    "df4['change'] = (df4['est'] - df4['y_sample'])/df4['y_sample']\n",
    "df5['change'] = (df5['est'] - df5['y_sample'])/df5['y_sample']"
   ]
  },
  {
   "cell_type": "code",
   "execution_count": 52,
   "metadata": {},
   "outputs": [],
   "source": [
    "df_cg = pd.concat([df1['date'],df1['change'],df2['change'],df3['change'],df4['change'],df5['change']],axis=1)"
   ]
  },
  {
   "cell_type": "code",
   "execution_count": 53,
   "metadata": {},
   "outputs": [],
   "source": [
    "df_cg.columns =['date', 'change1', 'change2', 'change3', 'change4', 'change5']\n",
    "df_cg.index = df_cg['date']\n",
    "df_cg.drop(['date'],axis=1,inplace=True)"
   ]
  },
  {
   "cell_type": "code",
   "execution_count": 54,
   "metadata": {},
   "outputs": [],
   "source": [
    "Long  = pd.DataFrame(df1['date'],columns = ['date'])\n",
    "Short = pd.DataFrame(df1['date'],columns = ['date'])"
   ]
  },
  {
   "cell_type": "code",
   "execution_count": 55,
   "metadata": {},
   "outputs": [
    {
     "data": {
      "text/html": [
       "<div>\n",
       "<style scoped>\n",
       "    .dataframe tbody tr th:only-of-type {\n",
       "        vertical-align: middle;\n",
       "    }\n",
       "\n",
       "    .dataframe tbody tr th {\n",
       "        vertical-align: top;\n",
       "    }\n",
       "\n",
       "    .dataframe thead th {\n",
       "        text-align: right;\n",
       "    }\n",
       "</style>\n",
       "<table border=\"1\" class=\"dataframe\">\n",
       "  <thead>\n",
       "    <tr style=\"text-align: right;\">\n",
       "      <th></th>\n",
       "      <th>change1</th>\n",
       "      <th>change2</th>\n",
       "      <th>change3</th>\n",
       "      <th>change4</th>\n",
       "      <th>change5</th>\n",
       "    </tr>\n",
       "    <tr>\n",
       "      <th>date</th>\n",
       "      <th></th>\n",
       "      <th></th>\n",
       "      <th></th>\n",
       "      <th></th>\n",
       "      <th></th>\n",
       "    </tr>\n",
       "  </thead>\n",
       "  <tbody>\n",
       "    <tr>\n",
       "      <td>1994-01-01</td>\n",
       "      <td>9.450585e-07</td>\n",
       "      <td>0.000016</td>\n",
       "      <td>0.000025</td>\n",
       "      <td>0.000022</td>\n",
       "      <td>0.000041</td>\n",
       "    </tr>\n",
       "    <tr>\n",
       "      <td>1994-02-01</td>\n",
       "      <td>5.219650e-05</td>\n",
       "      <td>0.000105</td>\n",
       "      <td>0.000169</td>\n",
       "      <td>0.000215</td>\n",
       "      <td>0.000239</td>\n",
       "    </tr>\n",
       "    <tr>\n",
       "      <td>1994-03-01</td>\n",
       "      <td>9.499112e-05</td>\n",
       "      <td>0.000199</td>\n",
       "      <td>0.000357</td>\n",
       "      <td>0.000448</td>\n",
       "      <td>0.000498</td>\n",
       "    </tr>\n",
       "    <tr>\n",
       "      <td>1994-04-01</td>\n",
       "      <td>1.313318e-04</td>\n",
       "      <td>0.000278</td>\n",
       "      <td>0.000381</td>\n",
       "      <td>0.000515</td>\n",
       "      <td>0.000568</td>\n",
       "    </tr>\n",
       "    <tr>\n",
       "      <td>1994-05-01</td>\n",
       "      <td>1.220621e-04</td>\n",
       "      <td>0.000196</td>\n",
       "      <td>0.000211</td>\n",
       "      <td>0.000163</td>\n",
       "      <td>0.000249</td>\n",
       "    </tr>\n",
       "  </tbody>\n",
       "</table>\n",
       "</div>"
      ],
      "text/plain": [
       "                 change1   change2   change3   change4   change5\n",
       "date                                                            \n",
       "1994-01-01  9.450585e-07  0.000016  0.000025  0.000022  0.000041\n",
       "1994-02-01  5.219650e-05  0.000105  0.000169  0.000215  0.000239\n",
       "1994-03-01  9.499112e-05  0.000199  0.000357  0.000448  0.000498\n",
       "1994-04-01  1.313318e-04  0.000278  0.000381  0.000515  0.000568\n",
       "1994-05-01  1.220621e-04  0.000196  0.000211  0.000163  0.000249"
      ]
     },
     "execution_count": 55,
     "metadata": {},
     "output_type": "execute_result"
    }
   ],
   "source": [
    "df_cg.head()"
   ]
  },
  {
   "cell_type": "code",
   "execution_count": 56,
   "metadata": {},
   "outputs": [],
   "source": [
    "def max2(x):\n",
    "    temp = sorted(x)\n",
    "    temp = temp[3]\n",
    "    for i in range(5):\n",
    "        if temp == x[i]:\n",
    "            return i\n",
    "def min2(x):\n",
    "    temp = sorted(x)\n",
    "    temp = temp[1]\n",
    "    for i in range(5):\n",
    "        if temp == x[i]:\n",
    "            return i\n",
    "def max1(x):\n",
    "    temp = sorted(x)\n",
    "    temp = temp[4]\n",
    "    for i in range(5):\n",
    "        if temp == x[i]:\n",
    "            return i\n",
    "def min1(x):\n",
    "    temp = sorted(x)\n",
    "    temp = temp[0]\n",
    "    for i in range(5):\n",
    "        if temp == x[i]:\n",
    "            return i\n",
    "        \n",
    "max2 = df_cg.apply(max2,axis=1)\n",
    "min2 = df_cg.apply(min2,axis=1)\n",
    "max1 = df_cg.apply(max1,axis=1)\n",
    "min1 = df_cg.apply(min1,axis=1)"
   ]
  },
  {
   "cell_type": "code",
   "execution_count": 57,
   "metadata": {},
   "outputs": [],
   "source": [
    "Long['1'] = (np.array([max1==0,max2==0]).T).sum(axis=1)\n",
    "Long['2'] = (np.array([max1==1,max2==1]).T).sum(axis=1)\n",
    "Long['3'] = (np.array([max1==2,max2==2]).T).sum(axis=1)\n",
    "Long['4'] = (np.array([max1==3,max2==3]).T).sum(axis=1)\n",
    "Long['5'] = (np.array([max1==4,max2==4]).T).sum(axis=1)"
   ]
  },
  {
   "cell_type": "code",
   "execution_count": 58,
   "metadata": {},
   "outputs": [],
   "source": [
    "Short['1'] = (np.array([min1==0,min2==0]).T).sum(axis=1)\n",
    "Short['2'] = (np.array([min1==1,min2==1]).T).sum(axis=1)\n",
    "Short['3'] = (np.array([min1==2,min2==2]).T).sum(axis=1)\n",
    "Short['4'] = (np.array([min1==3,min2==3]).T).sum(axis=1)\n",
    "Short['5'] = (np.array([min1==4,min2==4]).T).sum(axis=1)"
   ]
  },
  {
   "cell_type": "code",
   "execution_count": 59,
   "metadata": {},
   "outputs": [],
   "source": [
    "Long.to_csv(\"../Strategy_Backtest/Long_View.csv\")\n",
    "Short.to_csv(\"../Strategy_Backtest/Short_View.csv\")"
   ]
  },
  {
   "cell_type": "code",
   "execution_count": null,
   "metadata": {},
   "outputs": [],
   "source": []
  },
  {
   "cell_type": "code",
   "execution_count": null,
   "metadata": {},
   "outputs": [],
   "source": []
  }
 ],
 "metadata": {
  "kernelspec": {
   "display_name": "Python 3",
   "language": "python",
   "name": "python3"
  },
  "language_info": {
   "codemirror_mode": {
    "name": "ipython",
    "version": 3
   },
   "file_extension": ".py",
   "mimetype": "text/x-python",
   "name": "python",
   "nbconvert_exporter": "python",
   "pygments_lexer": "ipython3",
   "version": "3.7.4"
  }
 },
 "nbformat": 4,
 "nbformat_minor": 4
}
