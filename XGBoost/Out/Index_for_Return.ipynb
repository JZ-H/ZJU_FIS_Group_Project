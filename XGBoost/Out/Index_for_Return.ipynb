{
 "cells": [
  {
   "cell_type": "markdown",
   "metadata": {},
   "source": [
    "# Index for Return\n",
    "\n",
    "- As the maturity of the bond increases, the MAPE and RMSE also increase\n"
   ]
  },
  {
   "cell_type": "code",
   "execution_count": 1,
   "metadata": {},
   "outputs": [],
   "source": [
    "import math\n",
    "import matplotlib\n",
    "import numpy as np\n",
    "import pandas as pd\n",
    "import time\n",
    "\n",
    "from sklearn.metrics import mean_squared_error\n",
    "from datetime import date\n",
    "from matplotlib import pyplot as plt\n",
    "def get_mape(y_true, y_pred): \n",
    "    \"\"\"\n",
    "    Compute mean absolute percentage error (MAPE)\n",
    "    \"\"\"\n",
    "    y_true, y_pred = np.array(y_true), np.array(y_pred)\n",
    "    return np.mean(np.abs((y_true - y_pred) / y_true)) * 100"
   ]
  },
  {
   "cell_type": "code",
   "execution_count": 2,
   "metadata": {},
   "outputs": [],
   "source": [
    "df_1 = pd.read_csv(\"DataFre_1M_TranFreq_1M_Price1_xgboost.csv\")\n",
    "df_2 = pd.read_csv(\"DataFre_1M_TranFreq_1M_Price2_xgboost.csv\")\n",
    "df_3 = pd.read_csv(\"DataFre_1M_TranFreq_1M_Price3_xgboost.csv\")\n",
    "df_4 = pd.read_csv(\"DataFre_1M_TranFreq_1M_Price4_xgboost.csv\")\n",
    "df_5 = pd.read_csv(\"DataFre_1M_TranFreq_1M_Price5_xgboost.csv\")"
   ]
  },
  {
   "cell_type": "code",
   "execution_count": 3,
   "metadata": {},
   "outputs": [],
   "source": [
    "df_2_er_est = np.log(df_2['est'].shift(-1)) - np.log(df_2['est']) - np.log(df_1['y_sample']/100)\n",
    "df_3_er_est = np.log(df_3['est'].shift(-1)) - np.log(df_3['est']) - np.log(df_1['y_sample']/100)\n",
    "df_4_er_est = np.log(df_4['est'].shift(-1)) - np.log(df_4['est']) - np.log(df_1['y_sample']/100)\n",
    "df_5_er_est = np.log(df_5['est'].shift(-1)) - np.log(df_5['est']) - np.log(df_1['y_sample']/100)\n",
    "df_ave_er_est = (df_2_er_est+df_3_er_est+df_4_er_est+df_5_er_est)/4\n",
    "df_ave_er_est = df_ave_er_est[:-1]\n",
    "df_2_er_est = df_2_er_est[:-1]\n",
    "df_3_er_est = df_3_er_est[:-1]\n",
    "df_4_er_est = df_4_er_est[:-1]\n",
    "df_5_er_est = df_5_er_est[:-1]\n",
    "\n",
    "df_2_er = np.log(df_2['y_sample'].shift(-1)) - np.log(df_2['y_sample']) - np.log(df_1['y_sample']/100)\n",
    "df_3_er = np.log(df_3['y_sample'].shift(-1)) - np.log(df_3['y_sample']) - np.log(df_1['y_sample']/100)\n",
    "df_4_er = np.log(df_4['y_sample'].shift(-1)) - np.log(df_4['y_sample']) - np.log(df_1['y_sample']/100)\n",
    "df_5_er = np.log(df_5['y_sample'].shift(-1)) - np.log(df_5['y_sample']) - np.log(df_1['y_sample']/100)\n",
    "df_ave_er = (df_2_er+df_3_er+df_4_er+df_5_er)/4\n",
    "df_ave_er = df_ave_er[:-1]\n",
    "df_2_er = df_2_er[:-1]\n",
    "df_3_er = df_3_er[:-1]\n",
    "df_4_er = df_4_er[:-1]\n",
    "df_5_er = df_5_er[:-1]"
   ]
  },
  {
   "cell_type": "code",
   "execution_count": 4,
   "metadata": {},
   "outputs": [
    {
     "name": "stdout",
     "output_type": "stream",
     "text": [
      "RMSE for Price 2 on test set = 0.006\n",
      "MAPE for Price 2 on test set = 9.315%\n"
     ]
    }
   ],
   "source": [
    "rmse_2 = math.sqrt(mean_squared_error(df_2_er, df_2_er_est))\n",
    "mape_2 = get_mape(df_2_er, df_2_er_est)\n",
    "print(\"RMSE for Price 2 on test set = %0.3f\" % rmse_2)\n",
    "print(\"MAPE for Price 2 on test set = %0.3f%%\" % mape_2)"
   ]
  },
  {
   "cell_type": "code",
   "execution_count": 5,
   "metadata": {},
   "outputs": [
    {
     "name": "stdout",
     "output_type": "stream",
     "text": [
      "RMSE for Price 3 on test set = 0.009\n",
      "MAPE for Price 3 on test set = 15.082%\n"
     ]
    }
   ],
   "source": [
    "rmse_3 = math.sqrt(mean_squared_error(df_3_er, df_3_er_est))\n",
    "mape_3 = get_mape(df_3_er, df_3_er_est)\n",
    "print(\"RMSE for Price 3 on test set = %0.3f\" % rmse_3)\n",
    "print(\"MAPE for Price 3 on test set = %0.3f%%\" % mape_3)"
   ]
  },
  {
   "cell_type": "code",
   "execution_count": 6,
   "metadata": {},
   "outputs": [
    {
     "name": "stdout",
     "output_type": "stream",
     "text": [
      "RMSE for Price 4 on test set = 0.013\n",
      "MAPE for Price 4 on test set = 24.156%\n"
     ]
    }
   ],
   "source": [
    "rmse_4 = math.sqrt(mean_squared_error(df_4_er, df_4_er_est))\n",
    "mape_4 = get_mape(df_4_er, df_4_er_est)\n",
    "print(\"RMSE for Price 4 on test set = %0.3f\" % rmse_4)\n",
    "print(\"MAPE for Price 4 on test set = %0.3f%%\" % mape_4)"
   ]
  },
  {
   "cell_type": "code",
   "execution_count": 7,
   "metadata": {},
   "outputs": [
    {
     "name": "stdout",
     "output_type": "stream",
     "text": [
      "RMSE for Price 5 on test set = 0.015\n",
      "MAPE for Price 5 on test set = 33.959%\n"
     ]
    }
   ],
   "source": [
    "rmse_5 = math.sqrt(mean_squared_error(df_5_er, df_5_er_est))\n",
    "mape_5 = get_mape(df_5_er, df_5_er_est)\n",
    "print(\"RMSE for Price 5 on test set = %0.3f\" % rmse_5)\n",
    "print(\"MAPE for Price 5 on test set = %0.3f%%\" % mape_5)"
   ]
  },
  {
   "cell_type": "code",
   "execution_count": 8,
   "metadata": {},
   "outputs": [
    {
     "name": "stdout",
     "output_type": "stream",
     "text": [
      "RMSE on test set = 0.011\n",
      "MAPE on test set = 18.467%\n"
     ]
    }
   ],
   "source": [
    "rmse_ave = math.sqrt(mean_squared_error(df_ave_er, df_ave_er_est))\n",
    "mape_ave = get_mape(df_ave_er, df_ave_er_est)\n",
    "print(\"RMSE on test set = %0.3f\" % rmse_ave)\n",
    "print(\"MAPE on test set = %0.3f%%\" % mape_ave)"
   ]
  },
  {
   "cell_type": "code",
   "execution_count": 9,
   "metadata": {},
   "outputs": [],
   "source": [
    "df_result = pd.DataFrame({\"average\":[rmse_ave,mape_ave],\"rx(2)\":[rmse_2,mape_2],\"rx(3)\":[rmse_3,mape_3],\"rx(4)\":[rmse_4,mape_4],\"rx(5)\":[rmse_5,mape_5]},index=['RMSE','MAPE-%'])"
   ]
  },
  {
   "cell_type": "code",
   "execution_count": 81,
   "metadata": {},
   "outputs": [],
   "source": [
    "df_result.to_csv(\"Result_RMSE_MAPE.csv\")"
   ]
  },
  {
   "cell_type": "markdown",
   "metadata": {},
   "source": [
    "## Calculate the Benchmark"
   ]
  },
  {
   "cell_type": "code",
   "execution_count": 44,
   "metadata": {},
   "outputs": [],
   "source": [
    "df = pd.read_csv(\"../../Data/XGBoost_Train.csv\")\n",
    "\n",
    "df_2_er_ = np.log(df['Price2'].shift(-1)) - np.log(df['Price2']) - np.log(df['Price1']/100)\n",
    "df_3_er_ = np.log(df['Price3'].shift(-1)) - np.log(df['Price3']) - np.log(df['Price1']/100)\n",
    "df_4_er_ = np.log(df['Price4'].shift(-1)) - np.log(df['Price4']) - np.log(df['Price1']/100)\n",
    "df_5_er_ = np.log(df['Price5'].shift(-1)) - np.log(df['Price5']) - np.log(df['Price1']/100)\n",
    "df_ave_er_ = (df_2_er_+df_3_er_+df_4_er_+df_5_er_)/4"
   ]
  },
  {
   "cell_type": "code",
   "execution_count": 46,
   "metadata": {},
   "outputs": [
    {
     "name": "stdout",
     "output_type": "stream",
     "text": [
      "RMSE of b_2 on test set = 0.030\n",
      "RMSE of b_3 on test set = 0.031\n",
      "RMSE of b_4 on test set = 0.033\n",
      "RMSE of b_5 on test set = 0.034\n",
      "RMSE of b_ave on test set = 0.032\n"
     ]
    }
   ],
   "source": [
    "b_2 = math.sqrt(mean_squared_error(np.array([df_2_er_.mean(),]*len(df_2_er)), df_2_er))\n",
    "b_3 = math.sqrt(mean_squared_error(np.array([df_3_er_.mean(),]*len(df_2_er)), df_3_er))\n",
    "b_4 = math.sqrt(mean_squared_error(np.array([df_4_er_.mean(),]*len(df_2_er)), df_4_er))\n",
    "b_5 = math.sqrt(mean_squared_error(np.array([df_5_er_.mean(),]*len(df_2_er)), df_5_er))\n",
    "b_ave = math.sqrt(mean_squared_error(np.array([df_ave_er_.mean(),]*len(df_2_er)), df_ave_er))\n",
    "print(\"RMSE of b_2 on test set = %0.3f\" % b_2)\n",
    "print(\"RMSE of b_3 on test set = %0.3f\" % b_3)\n",
    "print(\"RMSE of b_4 on test set = %0.3f\" % b_4)\n",
    "print(\"RMSE of b_5 on test set = %0.3f\" % b_5)\n",
    "print(\"RMSE of b_ave on test set = %0.3f\" % b_ave)"
   ]
  },
  {
   "cell_type": "code",
   "execution_count": 47,
   "metadata": {},
   "outputs": [],
   "source": [
    "df_result_ = pd.DataFrame({\"average\":[b_ave,],\"rx(2)\":[b_2,],\"rx(3)\":[b_3,],\"rx(4)\":[b_4,],\"rx(5)\":[b_5,]},index=['RMSE',])"
   ]
  },
  {
   "cell_type": "code",
   "execution_count": 48,
   "metadata": {},
   "outputs": [],
   "source": [
    "df_result_.to_csv(\"Benchmark_RMSE_MAPE.csv\")"
   ]
  },
  {
   "cell_type": "code",
   "execution_count": null,
   "metadata": {},
   "outputs": [],
   "source": []
  }
 ],
 "metadata": {
  "kernelspec": {
   "display_name": "Python 3",
   "language": "python",
   "name": "python3"
  },
  "language_info": {
   "codemirror_mode": {
    "name": "ipython",
    "version": 3
   },
   "file_extension": ".py",
   "mimetype": "text/x-python",
   "name": "python",
   "nbconvert_exporter": "python",
   "pygments_lexer": "ipython3",
   "version": "3.7.4"
  }
 },
 "nbformat": 4,
 "nbformat_minor": 4
}
